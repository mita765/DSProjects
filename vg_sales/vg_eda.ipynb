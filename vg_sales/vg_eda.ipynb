{
 "cells": [
  {
   "cell_type": "markdown",
   "id": "79d510a3-069f-4019-a6ae-3f513cbebbce",
   "metadata": {},
   "source": [
    "# Video Game Sales\n",
    "## Exploratory Analysis"
   ]
  },
  {
   "cell_type": "code",
   "execution_count": 1,
   "id": "5bd351f5-ce6f-4a7b-8396-97727706de6b",
   "metadata": {},
   "outputs": [],
   "source": [
    "import numpy as np\n",
    "import pandas as pd\n",
    "from matplotlib import pyplot as plt\n",
    "from statsmodels.stats.anova import anova_lm\n",
    "import statsmodels.formula.api as smf\n",
    "from statsmodels.tsa.ar_model import AutoReg"
   ]
  },
  {
   "cell_type": "markdown",
   "id": "92d2f2db-3df3-42ca-a305-a3ea88849e2d",
   "metadata": {},
   "source": [
    "### Data Cleaning"
   ]
  },
  {
   "cell_type": "code",
   "execution_count": 2,
   "id": "f5185377-d154-4d9f-a44d-2cec28342f57",
   "metadata": {},
   "outputs": [],
   "source": [
    "data = pd.read_csv(\"vgsales.csv\")"
   ]
  },
  {
   "cell_type": "code",
   "execution_count": 3,
   "id": "cbf21c7a-d194-44eb-afbe-329ee2cd0443",
   "metadata": {},
   "outputs": [
    {
     "data": {
      "text/html": [
       "<div>\n",
       "<style scoped>\n",
       "    .dataframe tbody tr th:only-of-type {\n",
       "        vertical-align: middle;\n",
       "    }\n",
       "\n",
       "    .dataframe tbody tr th {\n",
       "        vertical-align: top;\n",
       "    }\n",
       "\n",
       "    .dataframe thead th {\n",
       "        text-align: right;\n",
       "    }\n",
       "</style>\n",
       "<table border=\"1\" class=\"dataframe\">\n",
       "  <thead>\n",
       "    <tr style=\"text-align: right;\">\n",
       "      <th></th>\n",
       "      <th>Rank</th>\n",
       "      <th>Name</th>\n",
       "      <th>Platform</th>\n",
       "      <th>Year</th>\n",
       "      <th>Genre</th>\n",
       "      <th>Publisher</th>\n",
       "      <th>NA_Sales</th>\n",
       "      <th>EU_Sales</th>\n",
       "      <th>JP_Sales</th>\n",
       "      <th>Other_Sales</th>\n",
       "      <th>Global_Sales</th>\n",
       "    </tr>\n",
       "  </thead>\n",
       "  <tbody>\n",
       "    <tr>\n",
       "      <th>0</th>\n",
       "      <td>1</td>\n",
       "      <td>Wii Sports</td>\n",
       "      <td>Wii</td>\n",
       "      <td>2006.0</td>\n",
       "      <td>Sports</td>\n",
       "      <td>Nintendo</td>\n",
       "      <td>41.49</td>\n",
       "      <td>29.02</td>\n",
       "      <td>3.77</td>\n",
       "      <td>8.46</td>\n",
       "      <td>82.74</td>\n",
       "    </tr>\n",
       "    <tr>\n",
       "      <th>1</th>\n",
       "      <td>2</td>\n",
       "      <td>Super Mario Bros.</td>\n",
       "      <td>NES</td>\n",
       "      <td>1985.0</td>\n",
       "      <td>Platform</td>\n",
       "      <td>Nintendo</td>\n",
       "      <td>29.08</td>\n",
       "      <td>3.58</td>\n",
       "      <td>6.81</td>\n",
       "      <td>0.77</td>\n",
       "      <td>40.24</td>\n",
       "    </tr>\n",
       "    <tr>\n",
       "      <th>2</th>\n",
       "      <td>3</td>\n",
       "      <td>Mario Kart Wii</td>\n",
       "      <td>Wii</td>\n",
       "      <td>2008.0</td>\n",
       "      <td>Racing</td>\n",
       "      <td>Nintendo</td>\n",
       "      <td>15.85</td>\n",
       "      <td>12.88</td>\n",
       "      <td>3.79</td>\n",
       "      <td>3.31</td>\n",
       "      <td>35.82</td>\n",
       "    </tr>\n",
       "    <tr>\n",
       "      <th>3</th>\n",
       "      <td>4</td>\n",
       "      <td>Wii Sports Resort</td>\n",
       "      <td>Wii</td>\n",
       "      <td>2009.0</td>\n",
       "      <td>Sports</td>\n",
       "      <td>Nintendo</td>\n",
       "      <td>15.75</td>\n",
       "      <td>11.01</td>\n",
       "      <td>3.28</td>\n",
       "      <td>2.96</td>\n",
       "      <td>33.00</td>\n",
       "    </tr>\n",
       "    <tr>\n",
       "      <th>4</th>\n",
       "      <td>5</td>\n",
       "      <td>Pokemon Red/Pokemon Blue</td>\n",
       "      <td>GB</td>\n",
       "      <td>1996.0</td>\n",
       "      <td>Role-Playing</td>\n",
       "      <td>Nintendo</td>\n",
       "      <td>11.27</td>\n",
       "      <td>8.89</td>\n",
       "      <td>10.22</td>\n",
       "      <td>1.00</td>\n",
       "      <td>31.37</td>\n",
       "    </tr>\n",
       "  </tbody>\n",
       "</table>\n",
       "</div>"
      ],
      "text/plain": [
       "   Rank                      Name Platform    Year         Genre Publisher  \\\n",
       "0     1                Wii Sports      Wii  2006.0        Sports  Nintendo   \n",
       "1     2         Super Mario Bros.      NES  1985.0      Platform  Nintendo   \n",
       "2     3            Mario Kart Wii      Wii  2008.0        Racing  Nintendo   \n",
       "3     4         Wii Sports Resort      Wii  2009.0        Sports  Nintendo   \n",
       "4     5  Pokemon Red/Pokemon Blue       GB  1996.0  Role-Playing  Nintendo   \n",
       "\n",
       "   NA_Sales  EU_Sales  JP_Sales  Other_Sales  Global_Sales  \n",
       "0     41.49     29.02      3.77         8.46         82.74  \n",
       "1     29.08      3.58      6.81         0.77         40.24  \n",
       "2     15.85     12.88      3.79         3.31         35.82  \n",
       "3     15.75     11.01      3.28         2.96         33.00  \n",
       "4     11.27      8.89     10.22         1.00         31.37  "
      ]
     },
     "execution_count": 3,
     "metadata": {},
     "output_type": "execute_result"
    }
   ],
   "source": [
    "data.head()"
   ]
  },
  {
   "cell_type": "code",
   "execution_count": 4,
   "id": "1cd47c1a-3db7-4108-a947-937b13bfe581",
   "metadata": {},
   "outputs": [
    {
     "data": {
      "text/html": [
       "<div>\n",
       "<style scoped>\n",
       "    .dataframe tbody tr th:only-of-type {\n",
       "        vertical-align: middle;\n",
       "    }\n",
       "\n",
       "    .dataframe tbody tr th {\n",
       "        vertical-align: top;\n",
       "    }\n",
       "\n",
       "    .dataframe thead th {\n",
       "        text-align: right;\n",
       "    }\n",
       "</style>\n",
       "<table border=\"1\" class=\"dataframe\">\n",
       "  <thead>\n",
       "    <tr style=\"text-align: right;\">\n",
       "      <th></th>\n",
       "      <th>Rank</th>\n",
       "      <th>Name</th>\n",
       "      <th>Platform</th>\n",
       "      <th>Year</th>\n",
       "      <th>Genre</th>\n",
       "      <th>Publisher</th>\n",
       "      <th>NA_Sales</th>\n",
       "      <th>EU_Sales</th>\n",
       "      <th>JP_Sales</th>\n",
       "      <th>Other_Sales</th>\n",
       "      <th>Global_Sales</th>\n",
       "    </tr>\n",
       "  </thead>\n",
       "  <tbody>\n",
       "    <tr>\n",
       "      <th>0</th>\n",
       "      <td>1</td>\n",
       "      <td>Wii Sports</td>\n",
       "      <td>Wii</td>\n",
       "      <td>2006.0</td>\n",
       "      <td>Sports</td>\n",
       "      <td>Nintendo</td>\n",
       "      <td>41.49</td>\n",
       "      <td>29.02</td>\n",
       "      <td>3.77</td>\n",
       "      <td>8.46</td>\n",
       "      <td>82.74</td>\n",
       "    </tr>\n",
       "    <tr>\n",
       "      <th>1</th>\n",
       "      <td>2</td>\n",
       "      <td>Super Mario Bros.</td>\n",
       "      <td>NES</td>\n",
       "      <td>1985.0</td>\n",
       "      <td>Platform</td>\n",
       "      <td>Nintendo</td>\n",
       "      <td>29.08</td>\n",
       "      <td>3.58</td>\n",
       "      <td>6.81</td>\n",
       "      <td>0.77</td>\n",
       "      <td>40.24</td>\n",
       "    </tr>\n",
       "    <tr>\n",
       "      <th>2</th>\n",
       "      <td>3</td>\n",
       "      <td>Mario Kart Wii</td>\n",
       "      <td>Wii</td>\n",
       "      <td>2008.0</td>\n",
       "      <td>Racing</td>\n",
       "      <td>Nintendo</td>\n",
       "      <td>15.85</td>\n",
       "      <td>12.88</td>\n",
       "      <td>3.79</td>\n",
       "      <td>3.31</td>\n",
       "      <td>35.82</td>\n",
       "    </tr>\n",
       "    <tr>\n",
       "      <th>3</th>\n",
       "      <td>4</td>\n",
       "      <td>Wii Sports Resort</td>\n",
       "      <td>Wii</td>\n",
       "      <td>2009.0</td>\n",
       "      <td>Sports</td>\n",
       "      <td>Nintendo</td>\n",
       "      <td>15.75</td>\n",
       "      <td>11.01</td>\n",
       "      <td>3.28</td>\n",
       "      <td>2.96</td>\n",
       "      <td>33.00</td>\n",
       "    </tr>\n",
       "    <tr>\n",
       "      <th>4</th>\n",
       "      <td>5</td>\n",
       "      <td>Pokemon Red/Pokemon Blue</td>\n",
       "      <td>GB</td>\n",
       "      <td>1996.0</td>\n",
       "      <td>Role-Playing</td>\n",
       "      <td>Nintendo</td>\n",
       "      <td>11.27</td>\n",
       "      <td>8.89</td>\n",
       "      <td>10.22</td>\n",
       "      <td>1.00</td>\n",
       "      <td>31.37</td>\n",
       "    </tr>\n",
       "    <tr>\n",
       "      <th>...</th>\n",
       "      <td>...</td>\n",
       "      <td>...</td>\n",
       "      <td>...</td>\n",
       "      <td>...</td>\n",
       "      <td>...</td>\n",
       "      <td>...</td>\n",
       "      <td>...</td>\n",
       "      <td>...</td>\n",
       "      <td>...</td>\n",
       "      <td>...</td>\n",
       "      <td>...</td>\n",
       "    </tr>\n",
       "    <tr>\n",
       "      <th>16593</th>\n",
       "      <td>16596</td>\n",
       "      <td>Woody Woodpecker in Crazy Castle 5</td>\n",
       "      <td>GBA</td>\n",
       "      <td>2002.0</td>\n",
       "      <td>Platform</td>\n",
       "      <td>Kemco</td>\n",
       "      <td>0.01</td>\n",
       "      <td>0.00</td>\n",
       "      <td>0.00</td>\n",
       "      <td>0.00</td>\n",
       "      <td>0.01</td>\n",
       "    </tr>\n",
       "    <tr>\n",
       "      <th>16594</th>\n",
       "      <td>16597</td>\n",
       "      <td>Men in Black II: Alien Escape</td>\n",
       "      <td>GC</td>\n",
       "      <td>2003.0</td>\n",
       "      <td>Shooter</td>\n",
       "      <td>Infogrames</td>\n",
       "      <td>0.01</td>\n",
       "      <td>0.00</td>\n",
       "      <td>0.00</td>\n",
       "      <td>0.00</td>\n",
       "      <td>0.01</td>\n",
       "    </tr>\n",
       "    <tr>\n",
       "      <th>16595</th>\n",
       "      <td>16598</td>\n",
       "      <td>SCORE International Baja 1000: The Official Game</td>\n",
       "      <td>PS2</td>\n",
       "      <td>2008.0</td>\n",
       "      <td>Racing</td>\n",
       "      <td>Activision</td>\n",
       "      <td>0.00</td>\n",
       "      <td>0.00</td>\n",
       "      <td>0.00</td>\n",
       "      <td>0.00</td>\n",
       "      <td>0.01</td>\n",
       "    </tr>\n",
       "    <tr>\n",
       "      <th>16596</th>\n",
       "      <td>16599</td>\n",
       "      <td>Know How 2</td>\n",
       "      <td>DS</td>\n",
       "      <td>2010.0</td>\n",
       "      <td>Puzzle</td>\n",
       "      <td>7G//AMES</td>\n",
       "      <td>0.00</td>\n",
       "      <td>0.01</td>\n",
       "      <td>0.00</td>\n",
       "      <td>0.00</td>\n",
       "      <td>0.01</td>\n",
       "    </tr>\n",
       "    <tr>\n",
       "      <th>16597</th>\n",
       "      <td>16600</td>\n",
       "      <td>Spirits &amp; Spells</td>\n",
       "      <td>GBA</td>\n",
       "      <td>2003.0</td>\n",
       "      <td>Platform</td>\n",
       "      <td>Wanadoo</td>\n",
       "      <td>0.01</td>\n",
       "      <td>0.00</td>\n",
       "      <td>0.00</td>\n",
       "      <td>0.00</td>\n",
       "      <td>0.01</td>\n",
       "    </tr>\n",
       "  </tbody>\n",
       "</table>\n",
       "<p>16291 rows × 11 columns</p>\n",
       "</div>"
      ],
      "text/plain": [
       "        Rank                                              Name Platform  \\\n",
       "0          1                                        Wii Sports      Wii   \n",
       "1          2                                 Super Mario Bros.      NES   \n",
       "2          3                                    Mario Kart Wii      Wii   \n",
       "3          4                                 Wii Sports Resort      Wii   \n",
       "4          5                          Pokemon Red/Pokemon Blue       GB   \n",
       "...      ...                                               ...      ...   \n",
       "16593  16596                Woody Woodpecker in Crazy Castle 5      GBA   \n",
       "16594  16597                     Men in Black II: Alien Escape       GC   \n",
       "16595  16598  SCORE International Baja 1000: The Official Game      PS2   \n",
       "16596  16599                                        Know How 2       DS   \n",
       "16597  16600                                  Spirits & Spells      GBA   \n",
       "\n",
       "         Year         Genre   Publisher  NA_Sales  EU_Sales  JP_Sales  \\\n",
       "0      2006.0        Sports    Nintendo     41.49     29.02      3.77   \n",
       "1      1985.0      Platform    Nintendo     29.08      3.58      6.81   \n",
       "2      2008.0        Racing    Nintendo     15.85     12.88      3.79   \n",
       "3      2009.0        Sports    Nintendo     15.75     11.01      3.28   \n",
       "4      1996.0  Role-Playing    Nintendo     11.27      8.89     10.22   \n",
       "...       ...           ...         ...       ...       ...       ...   \n",
       "16593  2002.0      Platform       Kemco      0.01      0.00      0.00   \n",
       "16594  2003.0       Shooter  Infogrames      0.01      0.00      0.00   \n",
       "16595  2008.0        Racing  Activision      0.00      0.00      0.00   \n",
       "16596  2010.0        Puzzle    7G//AMES      0.00      0.01      0.00   \n",
       "16597  2003.0      Platform     Wanadoo      0.01      0.00      0.00   \n",
       "\n",
       "       Other_Sales  Global_Sales  \n",
       "0             8.46         82.74  \n",
       "1             0.77         40.24  \n",
       "2             3.31         35.82  \n",
       "3             2.96         33.00  \n",
       "4             1.00         31.37  \n",
       "...            ...           ...  \n",
       "16593         0.00          0.01  \n",
       "16594         0.00          0.01  \n",
       "16595         0.00          0.01  \n",
       "16596         0.00          0.01  \n",
       "16597         0.00          0.01  \n",
       "\n",
       "[16291 rows x 11 columns]"
      ]
     },
     "execution_count": 4,
     "metadata": {},
     "output_type": "execute_result"
    }
   ],
   "source": [
    "data.dropna()"
   ]
  },
  {
   "cell_type": "markdown",
   "id": "0111b230-a1af-4bc9-aa1e-94cfa3fda6fb",
   "metadata": {},
   "source": [
    "Looking at the data a little later on will show that the observations per year become sparse outside of the range [1993, 2016] in this dataset, so we should get rid of those to get consistent yearly aggregates."
   ]
  },
  {
   "cell_type": "code",
   "execution_count": 5,
   "id": "bae048bf-ce22-48aa-8558-78410a48f712",
   "metadata": {},
   "outputs": [
    {
     "data": {
      "text/html": [
       "<div>\n",
       "<style scoped>\n",
       "    .dataframe tbody tr th:only-of-type {\n",
       "        vertical-align: middle;\n",
       "    }\n",
       "\n",
       "    .dataframe tbody tr th {\n",
       "        vertical-align: top;\n",
       "    }\n",
       "\n",
       "    .dataframe thead th {\n",
       "        text-align: right;\n",
       "    }\n",
       "</style>\n",
       "<table border=\"1\" class=\"dataframe\">\n",
       "  <thead>\n",
       "    <tr style=\"text-align: right;\">\n",
       "      <th></th>\n",
       "      <th>Rank</th>\n",
       "      <th>Name</th>\n",
       "      <th>Platform</th>\n",
       "      <th>Year</th>\n",
       "      <th>Genre</th>\n",
       "      <th>Publisher</th>\n",
       "      <th>NA_Sales</th>\n",
       "      <th>EU_Sales</th>\n",
       "      <th>JP_Sales</th>\n",
       "      <th>Other_Sales</th>\n",
       "      <th>Global_Sales</th>\n",
       "    </tr>\n",
       "  </thead>\n",
       "  <tbody>\n",
       "    <tr>\n",
       "      <th>0</th>\n",
       "      <td>1</td>\n",
       "      <td>Wii Sports</td>\n",
       "      <td>Wii</td>\n",
       "      <td>2006.0</td>\n",
       "      <td>Sports</td>\n",
       "      <td>Nintendo</td>\n",
       "      <td>41.49</td>\n",
       "      <td>29.02</td>\n",
       "      <td>3.77</td>\n",
       "      <td>8.46</td>\n",
       "      <td>82.74</td>\n",
       "    </tr>\n",
       "    <tr>\n",
       "      <th>2</th>\n",
       "      <td>3</td>\n",
       "      <td>Mario Kart Wii</td>\n",
       "      <td>Wii</td>\n",
       "      <td>2008.0</td>\n",
       "      <td>Racing</td>\n",
       "      <td>Nintendo</td>\n",
       "      <td>15.85</td>\n",
       "      <td>12.88</td>\n",
       "      <td>3.79</td>\n",
       "      <td>3.31</td>\n",
       "      <td>35.82</td>\n",
       "    </tr>\n",
       "    <tr>\n",
       "      <th>3</th>\n",
       "      <td>4</td>\n",
       "      <td>Wii Sports Resort</td>\n",
       "      <td>Wii</td>\n",
       "      <td>2009.0</td>\n",
       "      <td>Sports</td>\n",
       "      <td>Nintendo</td>\n",
       "      <td>15.75</td>\n",
       "      <td>11.01</td>\n",
       "      <td>3.28</td>\n",
       "      <td>2.96</td>\n",
       "      <td>33.00</td>\n",
       "    </tr>\n",
       "    <tr>\n",
       "      <th>4</th>\n",
       "      <td>5</td>\n",
       "      <td>Pokemon Red/Pokemon Blue</td>\n",
       "      <td>GB</td>\n",
       "      <td>1996.0</td>\n",
       "      <td>Role-Playing</td>\n",
       "      <td>Nintendo</td>\n",
       "      <td>11.27</td>\n",
       "      <td>8.89</td>\n",
       "      <td>10.22</td>\n",
       "      <td>1.00</td>\n",
       "      <td>31.37</td>\n",
       "    </tr>\n",
       "    <tr>\n",
       "      <th>6</th>\n",
       "      <td>7</td>\n",
       "      <td>New Super Mario Bros.</td>\n",
       "      <td>DS</td>\n",
       "      <td>2006.0</td>\n",
       "      <td>Platform</td>\n",
       "      <td>Nintendo</td>\n",
       "      <td>11.38</td>\n",
       "      <td>9.23</td>\n",
       "      <td>6.50</td>\n",
       "      <td>2.90</td>\n",
       "      <td>30.01</td>\n",
       "    </tr>\n",
       "  </tbody>\n",
       "</table>\n",
       "</div>"
      ],
      "text/plain": [
       "   Rank                      Name Platform    Year         Genre Publisher  \\\n",
       "0     1                Wii Sports      Wii  2006.0        Sports  Nintendo   \n",
       "2     3            Mario Kart Wii      Wii  2008.0        Racing  Nintendo   \n",
       "3     4         Wii Sports Resort      Wii  2009.0        Sports  Nintendo   \n",
       "4     5  Pokemon Red/Pokemon Blue       GB  1996.0  Role-Playing  Nintendo   \n",
       "6     7     New Super Mario Bros.       DS  2006.0      Platform  Nintendo   \n",
       "\n",
       "   NA_Sales  EU_Sales  JP_Sales  Other_Sales  Global_Sales  \n",
       "0     41.49     29.02      3.77         8.46         82.74  \n",
       "2     15.85     12.88      3.79         3.31         35.82  \n",
       "3     15.75     11.01      3.28         2.96         33.00  \n",
       "4     11.27      8.89     10.22         1.00         31.37  \n",
       "6     11.38      9.23      6.50         2.90         30.01  "
      ]
     },
     "execution_count": 5,
     "metadata": {},
     "output_type": "execute_result"
    }
   ],
   "source": [
    "data = data[(data.Year>1992) & (data.Year<2017)]\n",
    "data.head()"
   ]
  },
  {
   "cell_type": "markdown",
   "id": "e88a6752-09b3-4191-af42-3ca10bca1489",
   "metadata": {},
   "source": [
    "### Exploration (Platform)"
   ]
  },
  {
   "cell_type": "markdown",
   "id": "cd2f0570-c098-4357-ac46-a569683e83e5",
   "metadata": {},
   "source": [
    "Let's first take a look at the maximum global game sales by platform ranked from highest to lowest. It's clear that Nintendo is the dominant player (no pun intended) in platform game sales worldwide with *Wii Sports (Wii), Pokemon Red/Blue (GB), and New Super Mario Bros. (DS).* This dominance is most likely due to the varied nature of the platforms and their strong title exclusivity."
   ]
  },
  {
   "cell_type": "code",
   "execution_count": 6,
   "id": "971a1386-b18d-449c-880a-2c92521d3d35",
   "metadata": {},
   "outputs": [
    {
     "data": {
      "text/html": [
       "<div>\n",
       "<style scoped>\n",
       "    .dataframe tbody tr th:only-of-type {\n",
       "        vertical-align: middle;\n",
       "    }\n",
       "\n",
       "    .dataframe tbody tr th {\n",
       "        vertical-align: top;\n",
       "    }\n",
       "\n",
       "    .dataframe thead th {\n",
       "        text-align: right;\n",
       "    }\n",
       "</style>\n",
       "<table border=\"1\" class=\"dataframe\">\n",
       "  <thead>\n",
       "    <tr style=\"text-align: right;\">\n",
       "      <th></th>\n",
       "      <th>Year</th>\n",
       "      <th>Platform</th>\n",
       "      <th>Name</th>\n",
       "      <th>Global_Sales</th>\n",
       "    </tr>\n",
       "  </thead>\n",
       "  <tbody>\n",
       "    <tr>\n",
       "      <th>0</th>\n",
       "      <td>2006</td>\n",
       "      <td>Wii</td>\n",
       "      <td>Wii Sports</td>\n",
       "      <td>82.74</td>\n",
       "    </tr>\n",
       "    <tr>\n",
       "      <th>4</th>\n",
       "      <td>1996</td>\n",
       "      <td>GB</td>\n",
       "      <td>Pokemon Red/Pokemon Blue</td>\n",
       "      <td>31.37</td>\n",
       "    </tr>\n",
       "    <tr>\n",
       "      <th>6</th>\n",
       "      <td>2006</td>\n",
       "      <td>DS</td>\n",
       "      <td>New Super Mario Bros.</td>\n",
       "      <td>30.01</td>\n",
       "    </tr>\n",
       "    <tr>\n",
       "      <th>15</th>\n",
       "      <td>2010</td>\n",
       "      <td>X360</td>\n",
       "      <td>Kinect Adventures!</td>\n",
       "      <td>21.82</td>\n",
       "    </tr>\n",
       "    <tr>\n",
       "      <th>16</th>\n",
       "      <td>2013</td>\n",
       "      <td>PS3</td>\n",
       "      <td>Grand Theft Auto V</td>\n",
       "      <td>21.40</td>\n",
       "    </tr>\n",
       "    <tr>\n",
       "      <th>17</th>\n",
       "      <td>2004</td>\n",
       "      <td>PS2</td>\n",
       "      <td>Grand Theft Auto: San Andreas</td>\n",
       "      <td>20.81</td>\n",
       "    </tr>\n",
       "    <tr>\n",
       "      <th>25</th>\n",
       "      <td>2002</td>\n",
       "      <td>GBA</td>\n",
       "      <td>Pokemon Ruby/Pokemon Sapphire</td>\n",
       "      <td>15.85</td>\n",
       "    </tr>\n",
       "    <tr>\n",
       "      <th>32</th>\n",
       "      <td>2013</td>\n",
       "      <td>3DS</td>\n",
       "      <td>Pokemon X/Pokemon Y</td>\n",
       "      <td>14.35</td>\n",
       "    </tr>\n",
       "    <tr>\n",
       "      <th>33</th>\n",
       "      <td>2015</td>\n",
       "      <td>PS4</td>\n",
       "      <td>Call of Duty: Black Ops 3</td>\n",
       "      <td>14.24</td>\n",
       "    </tr>\n",
       "    <tr>\n",
       "      <th>46</th>\n",
       "      <td>1996</td>\n",
       "      <td>N64</td>\n",
       "      <td>Super Mario 64</td>\n",
       "      <td>11.89</td>\n",
       "    </tr>\n",
       "    <tr>\n",
       "      <th>52</th>\n",
       "      <td>1997</td>\n",
       "      <td>PS</td>\n",
       "      <td>Gran Turismo</td>\n",
       "      <td>10.95</td>\n",
       "    </tr>\n",
       "    <tr>\n",
       "      <th>57</th>\n",
       "      <td>1993</td>\n",
       "      <td>SNES</td>\n",
       "      <td>Super Mario All-Stars</td>\n",
       "      <td>10.55</td>\n",
       "    </tr>\n",
       "    <tr>\n",
       "      <th>79</th>\n",
       "      <td>2004</td>\n",
       "      <td>XB</td>\n",
       "      <td>Halo 2</td>\n",
       "      <td>8.49</td>\n",
       "    </tr>\n",
       "    <tr>\n",
       "      <th>83</th>\n",
       "      <td>2009</td>\n",
       "      <td>PC</td>\n",
       "      <td>The Sims 3</td>\n",
       "      <td>8.11</td>\n",
       "    </tr>\n",
       "    <tr>\n",
       "      <th>90</th>\n",
       "      <td>2005</td>\n",
       "      <td>PSP</td>\n",
       "      <td>Grand Theft Auto: Liberty City Stories</td>\n",
       "      <td>7.72</td>\n",
       "    </tr>\n",
       "    <tr>\n",
       "      <th>101</th>\n",
       "      <td>2015</td>\n",
       "      <td>XOne</td>\n",
       "      <td>Call of Duty: Black Ops 3</td>\n",
       "      <td>7.30</td>\n",
       "    </tr>\n",
       "    <tr>\n",
       "      <th>107</th>\n",
       "      <td>2001</td>\n",
       "      <td>GC</td>\n",
       "      <td>Super Smash Bros. Melee</td>\n",
       "      <td>7.07</td>\n",
       "    </tr>\n",
       "    <tr>\n",
       "      <th>108</th>\n",
       "      <td>2014</td>\n",
       "      <td>WiiU</td>\n",
       "      <td>Mario Kart 8</td>\n",
       "      <td>6.96</td>\n",
       "    </tr>\n",
       "    <tr>\n",
       "      <th>637</th>\n",
       "      <td>1998</td>\n",
       "      <td>DC</td>\n",
       "      <td>Sonic Adventure</td>\n",
       "      <td>2.42</td>\n",
       "    </tr>\n",
       "    <tr>\n",
       "      <th>713</th>\n",
       "      <td>2014</td>\n",
       "      <td>PSV</td>\n",
       "      <td>Minecraft</td>\n",
       "      <td>2.25</td>\n",
       "    </tr>\n",
       "    <tr>\n",
       "      <th>888</th>\n",
       "      <td>1995</td>\n",
       "      <td>SAT</td>\n",
       "      <td>Virtua Fighter 2</td>\n",
       "      <td>1.93</td>\n",
       "    </tr>\n",
       "    <tr>\n",
       "      <th>952</th>\n",
       "      <td>1994</td>\n",
       "      <td>GEN</td>\n",
       "      <td>Sonic &amp; Knuckles</td>\n",
       "      <td>1.82</td>\n",
       "    </tr>\n",
       "    <tr>\n",
       "      <th>1010</th>\n",
       "      <td>1993</td>\n",
       "      <td>NES</td>\n",
       "      <td>Kirby's Adventure</td>\n",
       "      <td>1.75</td>\n",
       "    </tr>\n",
       "    <tr>\n",
       "      <th>1261</th>\n",
       "      <td>1993</td>\n",
       "      <td>SCD</td>\n",
       "      <td>Sonic CD</td>\n",
       "      <td>1.50</td>\n",
       "    </tr>\n",
       "    <tr>\n",
       "      <th>3931</th>\n",
       "      <td>2000</td>\n",
       "      <td>WS</td>\n",
       "      <td>Final Fantasy</td>\n",
       "      <td>0.51</td>\n",
       "    </tr>\n",
       "    <tr>\n",
       "      <th>6681</th>\n",
       "      <td>1994</td>\n",
       "      <td>NG</td>\n",
       "      <td>Samurai Shodown II</td>\n",
       "      <td>0.25</td>\n",
       "    </tr>\n",
       "    <tr>\n",
       "      <th>9223</th>\n",
       "      <td>1995</td>\n",
       "      <td>TG16</td>\n",
       "      <td>Doukyuusei</td>\n",
       "      <td>0.14</td>\n",
       "    </tr>\n",
       "    <tr>\n",
       "      <th>12635</th>\n",
       "      <td>1995</td>\n",
       "      <td>3DO</td>\n",
       "      <td>Policenauts</td>\n",
       "      <td>0.06</td>\n",
       "    </tr>\n",
       "    <tr>\n",
       "      <th>14556</th>\n",
       "      <td>1996</td>\n",
       "      <td>PCFX</td>\n",
       "      <td>Blue Breaker: Ken Yorimo Hohoemi o</td>\n",
       "      <td>0.03</td>\n",
       "    </tr>\n",
       "  </tbody>\n",
       "</table>\n",
       "</div>"
      ],
      "text/plain": [
       "       Year Platform                                    Name  Global_Sales\n",
       "0      2006      Wii                              Wii Sports         82.74\n",
       "4      1996       GB                Pokemon Red/Pokemon Blue         31.37\n",
       "6      2006       DS                   New Super Mario Bros.         30.01\n",
       "15     2010     X360                      Kinect Adventures!         21.82\n",
       "16     2013      PS3                      Grand Theft Auto V         21.40\n",
       "17     2004      PS2           Grand Theft Auto: San Andreas         20.81\n",
       "25     2002      GBA           Pokemon Ruby/Pokemon Sapphire         15.85\n",
       "32     2013      3DS                     Pokemon X/Pokemon Y         14.35\n",
       "33     2015      PS4               Call of Duty: Black Ops 3         14.24\n",
       "46     1996      N64                          Super Mario 64         11.89\n",
       "52     1997       PS                            Gran Turismo         10.95\n",
       "57     1993     SNES                   Super Mario All-Stars         10.55\n",
       "79     2004       XB                                  Halo 2          8.49\n",
       "83     2009       PC                              The Sims 3          8.11\n",
       "90     2005      PSP  Grand Theft Auto: Liberty City Stories          7.72\n",
       "101    2015     XOne               Call of Duty: Black Ops 3          7.30\n",
       "107    2001       GC                 Super Smash Bros. Melee          7.07\n",
       "108    2014     WiiU                            Mario Kart 8          6.96\n",
       "637    1998       DC                         Sonic Adventure          2.42\n",
       "713    2014      PSV                               Minecraft          2.25\n",
       "888    1995      SAT                        Virtua Fighter 2          1.93\n",
       "952    1994      GEN                        Sonic & Knuckles          1.82\n",
       "1010   1993      NES                       Kirby's Adventure          1.75\n",
       "1261   1993      SCD                                Sonic CD          1.50\n",
       "3931   2000       WS                           Final Fantasy          0.51\n",
       "6681   1994       NG                      Samurai Shodown II          0.25\n",
       "9223   1995     TG16                              Doukyuusei          0.14\n",
       "12635  1995      3DO                             Policenauts          0.06\n",
       "14556  1996     PCFX      Blue Breaker: Ken Yorimo Hohoemi o          0.03"
      ]
     },
     "execution_count": 6,
     "metadata": {},
     "output_type": "execute_result"
    }
   ],
   "source": [
    "data_top = data.copy()\n",
    "data_top['Year'] = data_top['Year'].astype(int)\n",
    "data_top.sort_values('Global_Sales', ascending=False).groupby('Platform').head(1)[['Year','Platform','Name','Global_Sales']]"
   ]
  },
  {
   "cell_type": "code",
   "execution_count": 7,
   "id": "ab887c11-5935-4208-9cad-0fed13691d20",
   "metadata": {},
   "outputs": [
    {
     "data": {
      "text/plain": [
       "Platform\n",
       "Wii     82.74\n",
       "GB      31.37\n",
       "DS      30.01\n",
       "X360    21.82\n",
       "PS3     21.40\n",
       "PS2     20.81\n",
       "GBA     15.85\n",
       "3DS     14.35\n",
       "PS4     14.24\n",
       "N64     11.89\n",
       "PS      10.95\n",
       "SNES    10.55\n",
       "XB       8.49\n",
       "PC       8.11\n",
       "PSP      7.72\n",
       "XOne     7.30\n",
       "GC       7.07\n",
       "WiiU     6.96\n",
       "DC       2.42\n",
       "PSV      2.25\n",
       "SAT      1.93\n",
       "GEN      1.82\n",
       "NES      1.75\n",
       "SCD      1.50\n",
       "WS       0.51\n",
       "NG       0.25\n",
       "TG16     0.14\n",
       "3DO      0.06\n",
       "PCFX     0.03\n",
       "Name: Global_Sales, dtype: float64"
      ]
     },
     "execution_count": 7,
     "metadata": {},
     "output_type": "execute_result"
    }
   ],
   "source": [
    "data.groupby(\"Platform\")[\"Global_Sales\"].max().sort_values(ascending=False)"
   ]
  },
  {
   "cell_type": "markdown",
   "id": "eae54e08-1c14-45ed-94bc-0f3dcc5c3252",
   "metadata": {},
   "source": [
    "Now we'll make a new DF with the above information aggregated by sum this time so that we can explore platform success more generally, not analysing specific titles individually."
   ]
  },
  {
   "cell_type": "code",
   "execution_count": 8,
   "id": "997dab71-d37e-4f62-a2a0-39045dd18671",
   "metadata": {},
   "outputs": [
    {
     "data": {
      "text/plain": [
       "Platform\n",
       "3DO        0.10\n",
       "3DS      246.28\n",
       "DC        15.97\n",
       "DS       818.65\n",
       "GB       152.07\n",
       "GBA      313.56\n",
       "GC       197.14\n",
       "GEN        8.76\n",
       "N64      218.21\n",
       "NES        3.72\n",
       "NG         1.44\n",
       "PC       251.97\n",
       "PCFX       0.03\n",
       "PS       727.39\n",
       "PS2     1233.46\n",
       "PS3      949.35\n",
       "PS4      278.07\n",
       "PSP      291.71\n",
       "PSV       61.61\n",
       "SAT       33.59\n",
       "SCD        1.87\n",
       "SNES     124.70\n",
       "TG16       0.16\n",
       "WS         1.42\n",
       "Wii      909.81\n",
       "WiiU      81.86\n",
       "X360     969.61\n",
       "XB       252.09\n",
       "XOne     141.06\n",
       "Name: Global_Sales, dtype: float64"
      ]
     },
     "execution_count": 8,
     "metadata": {},
     "output_type": "execute_result"
    }
   ],
   "source": [
    "agg_data_plat_tot = data.groupby(by=\"Platform\")[\"Global_Sales\"].agg(\"sum\")\n",
    "agg_data_plat_tot"
   ]
  },
  {
   "cell_type": "markdown",
   "id": "d5b28d08-26ca-4b8e-aaab-c5bc55c5e68f",
   "metadata": {},
   "source": [
    "We now visualise the data and see who came out on top."
   ]
  },
  {
   "cell_type": "code",
   "execution_count": 9,
   "id": "818ae58a-cbcb-4413-a8ac-fbe7193b67ac",
   "metadata": {},
   "outputs": [
    {
     "data": {
      "text/plain": [
       "<Axes: title={'center': 'Platform Total Game Sales (1993-2016)'}, xlabel='Platform', ylabel='Millions of Games Sold'>"
      ]
     },
     "execution_count": 9,
     "metadata": {},
     "output_type": "execute_result"
    },
    {
     "data": {
      "image/png": "[encoded data removed]",
      "text/plain": [
       "<Figure size 640x480 with 1 Axes>"
      ]
     },
     "metadata": {},
     "output_type": "display_data"
    }
   ],
   "source": [
    "agg_data_plat_tot.sort_values(ascending=False).plot.bar(title=\"Platform Total Game Sales (1993-2016)\", \n",
    "                                                        ylabel=\"Millions of Games Sold\")"
   ]
  },
  {
   "cell_type": "markdown",
   "id": "48ce35ff-4e08-45ae-b726-f96327d89831",
   "metadata": {},
   "source": [
    "Amazingly, the PS2 outperformed all other platforms by over 200 million games sold! However, this chart is making me nervous for the veracity of the dataset. It seems dubious to me that PC games are listed on par with the XBox. My best estimate, without finding or being given any further information about the dataset, is that these \"PC games\" are PC exclusives only. For games like *Halo: CE*, this drastically underestimates the size of the PC game market."
   ]
  },
  {
   "cell_type": "markdown",
   "id": "f4b9f647-1945-44b7-bf34-31bd8bb401e2",
   "metadata": {},
   "source": [
    "### Market Share (Platform)"
   ]
  },
  {
   "cell_type": "code",
   "execution_count": 10,
   "id": "15d3b5a1-7594-4752-b779-33ee3d6cbc05",
   "metadata": {},
   "outputs": [
    {
     "data": {
      "text/html": [
       "<div>\n",
       "<style scoped>\n",
       "    .dataframe tbody tr th:only-of-type {\n",
       "        vertical-align: middle;\n",
       "    }\n",
       "\n",
       "    .dataframe tbody tr th {\n",
       "        vertical-align: top;\n",
       "    }\n",
       "\n",
       "    .dataframe thead th {\n",
       "        text-align: right;\n",
       "    }\n",
       "</style>\n",
       "<table border=\"1\" class=\"dataframe\">\n",
       "  <thead>\n",
       "    <tr style=\"text-align: right;\">\n",
       "      <th></th>\n",
       "      <th>Rank</th>\n",
       "      <th>Name</th>\n",
       "      <th>Platform</th>\n",
       "      <th>Year</th>\n",
       "      <th>Genre</th>\n",
       "      <th>Publisher</th>\n",
       "      <th>NA_Sales</th>\n",
       "      <th>EU_Sales</th>\n",
       "      <th>JP_Sales</th>\n",
       "      <th>Other_Sales</th>\n",
       "      <th>Global_Sales</th>\n",
       "    </tr>\n",
       "  </thead>\n",
       "  <tbody>\n",
       "    <tr>\n",
       "      <th>0</th>\n",
       "      <td>1</td>\n",
       "      <td>Wii Sports</td>\n",
       "      <td>Wii</td>\n",
       "      <td>2006.0</td>\n",
       "      <td>Sports</td>\n",
       "      <td>Nintendo</td>\n",
       "      <td>41.49</td>\n",
       "      <td>29.02</td>\n",
       "      <td>3.77</td>\n",
       "      <td>8.46</td>\n",
       "      <td>82.74</td>\n",
       "    </tr>\n",
       "    <tr>\n",
       "      <th>2</th>\n",
       "      <td>3</td>\n",
       "      <td>Mario Kart Wii</td>\n",
       "      <td>Wii</td>\n",
       "      <td>2008.0</td>\n",
       "      <td>Racing</td>\n",
       "      <td>Nintendo</td>\n",
       "      <td>15.85</td>\n",
       "      <td>12.88</td>\n",
       "      <td>3.79</td>\n",
       "      <td>3.31</td>\n",
       "      <td>35.82</td>\n",
       "    </tr>\n",
       "    <tr>\n",
       "      <th>3</th>\n",
       "      <td>4</td>\n",
       "      <td>Wii Sports Resort</td>\n",
       "      <td>Wii</td>\n",
       "      <td>2009.0</td>\n",
       "      <td>Sports</td>\n",
       "      <td>Nintendo</td>\n",
       "      <td>15.75</td>\n",
       "      <td>11.01</td>\n",
       "      <td>3.28</td>\n",
       "      <td>2.96</td>\n",
       "      <td>33.00</td>\n",
       "    </tr>\n",
       "    <tr>\n",
       "      <th>4</th>\n",
       "      <td>5</td>\n",
       "      <td>Pokemon Red/Pokemon Blue</td>\n",
       "      <td>GB</td>\n",
       "      <td>1996.0</td>\n",
       "      <td>Role-Playing</td>\n",
       "      <td>Nintendo</td>\n",
       "      <td>11.27</td>\n",
       "      <td>8.89</td>\n",
       "      <td>10.22</td>\n",
       "      <td>1.00</td>\n",
       "      <td>31.37</td>\n",
       "    </tr>\n",
       "    <tr>\n",
       "      <th>6</th>\n",
       "      <td>7</td>\n",
       "      <td>New Super Mario Bros.</td>\n",
       "      <td>DS</td>\n",
       "      <td>2006.0</td>\n",
       "      <td>Platform</td>\n",
       "      <td>Nintendo</td>\n",
       "      <td>11.38</td>\n",
       "      <td>9.23</td>\n",
       "      <td>6.50</td>\n",
       "      <td>2.90</td>\n",
       "      <td>30.01</td>\n",
       "    </tr>\n",
       "  </tbody>\n",
       "</table>\n",
       "</div>"
      ],
      "text/plain": [
       "   Rank                      Name Platform    Year         Genre Publisher  \\\n",
       "0     1                Wii Sports      Wii  2006.0        Sports  Nintendo   \n",
       "2     3            Mario Kart Wii      Wii  2008.0        Racing  Nintendo   \n",
       "3     4         Wii Sports Resort      Wii  2009.0        Sports  Nintendo   \n",
       "4     5  Pokemon Red/Pokemon Blue       GB  1996.0  Role-Playing  Nintendo   \n",
       "6     7     New Super Mario Bros.       DS  2006.0      Platform  Nintendo   \n",
       "\n",
       "   NA_Sales  EU_Sales  JP_Sales  Other_Sales  Global_Sales  \n",
       "0     41.49     29.02      3.77         8.46         82.74  \n",
       "2     15.85     12.88      3.79         3.31         35.82  \n",
       "3     15.75     11.01      3.28         2.96         33.00  \n",
       "4     11.27      8.89     10.22         1.00         31.37  \n",
       "6     11.38      9.23      6.50         2.90         30.01  "
      ]
     },
     "execution_count": 10,
     "metadata": {},
     "output_type": "execute_result"
    }
   ],
   "source": [
    "data.head()"
   ]
  },
  {
   "cell_type": "markdown",
   "id": "ca12a00a-0e7f-4354-992f-1b5483691e79",
   "metadata": {},
   "source": [
    "Now what we want is a DF that has years attached, so that we can track market share over time."
   ]
  },
  {
   "cell_type": "code",
   "execution_count": 11,
   "id": "82b0da6f-6999-4f05-9553-49b2e75ea45e",
   "metadata": {},
   "outputs": [
    {
     "data": {
      "text/html": [
       "<div>\n",
       "<style scoped>\n",
       "    .dataframe tbody tr th:only-of-type {\n",
       "        vertical-align: middle;\n",
       "    }\n",
       "\n",
       "    .dataframe tbody tr th {\n",
       "        vertical-align: top;\n",
       "    }\n",
       "\n",
       "    .dataframe thead th {\n",
       "        text-align: right;\n",
       "    }\n",
       "</style>\n",
       "<table border=\"1\" class=\"dataframe\">\n",
       "  <thead>\n",
       "    <tr style=\"text-align: right;\">\n",
       "      <th></th>\n",
       "      <th>Year</th>\n",
       "      <th>Platform</th>\n",
       "      <th>Global_Sales</th>\n",
       "    </tr>\n",
       "  </thead>\n",
       "  <tbody>\n",
       "    <tr>\n",
       "      <th>0</th>\n",
       "      <td>2006.0</td>\n",
       "      <td>Wii</td>\n",
       "      <td>82.74</td>\n",
       "    </tr>\n",
       "    <tr>\n",
       "      <th>2</th>\n",
       "      <td>2008.0</td>\n",
       "      <td>Wii</td>\n",
       "      <td>35.82</td>\n",
       "    </tr>\n",
       "    <tr>\n",
       "      <th>3</th>\n",
       "      <td>2009.0</td>\n",
       "      <td>Wii</td>\n",
       "      <td>33.00</td>\n",
       "    </tr>\n",
       "    <tr>\n",
       "      <th>4</th>\n",
       "      <td>1996.0</td>\n",
       "      <td>GB</td>\n",
       "      <td>31.37</td>\n",
       "    </tr>\n",
       "    <tr>\n",
       "      <th>6</th>\n",
       "      <td>2006.0</td>\n",
       "      <td>DS</td>\n",
       "      <td>30.01</td>\n",
       "    </tr>\n",
       "  </tbody>\n",
       "</table>\n",
       "</div>"
      ],
      "text/plain": [
       "     Year Platform  Global_Sales\n",
       "0  2006.0      Wii         82.74\n",
       "2  2008.0      Wii         35.82\n",
       "3  2009.0      Wii         33.00\n",
       "4  1996.0       GB         31.37\n",
       "6  2006.0       DS         30.01"
      ]
     },
     "execution_count": 11,
     "metadata": {},
     "output_type": "execute_result"
    }
   ],
   "source": [
    "df_plat = data[[\"Year\", \"Platform\", \"Global_Sales\"]].copy()\n",
    "df_plat.head()"
   ]
  },
  {
   "cell_type": "code",
   "execution_count": 12,
   "id": "1d98a134-e780-43e6-87b0-c0509a06b0c2",
   "metadata": {},
   "outputs": [],
   "source": [
    "df_plat[\"Year\"] = df_plat[\"Year\"].astype(int)\n",
    "df_plat_yr = df_plat.copy()"
   ]
  },
  {
   "cell_type": "markdown",
   "id": "69a1f35e-a6d1-44d8-ad73-d04f32dec04a",
   "metadata": {},
   "source": [
    "I could have made the year a datetime value, but the stacked bar chart plays nicer with integers. I also make a copy of this DF so I can run an ANOVA including year later."
   ]
  },
  {
   "cell_type": "code",
   "execution_count": 13,
   "id": "dc35e482-fea1-416d-aa46-9884e3f18fd3",
   "metadata": {},
   "outputs": [
    {
     "data": {
      "text/html": [
       "<div>\n",
       "<style scoped>\n",
       "    .dataframe tbody tr th:only-of-type {\n",
       "        vertical-align: middle;\n",
       "    }\n",
       "\n",
       "    .dataframe tbody tr th {\n",
       "        vertical-align: top;\n",
       "    }\n",
       "\n",
       "    .dataframe thead th {\n",
       "        text-align: right;\n",
       "    }\n",
       "</style>\n",
       "<table border=\"1\" class=\"dataframe\">\n",
       "  <thead>\n",
       "    <tr style=\"text-align: right;\">\n",
       "      <th></th>\n",
       "      <th>Platform</th>\n",
       "      <th>Global_Sales</th>\n",
       "    </tr>\n",
       "    <tr>\n",
       "      <th>Year</th>\n",
       "      <th></th>\n",
       "      <th></th>\n",
       "    </tr>\n",
       "  </thead>\n",
       "  <tbody>\n",
       "    <tr>\n",
       "      <th>2006</th>\n",
       "      <td>Wii</td>\n",
       "      <td>82.74</td>\n",
       "    </tr>\n",
       "    <tr>\n",
       "      <th>2008</th>\n",
       "      <td>Wii</td>\n",
       "      <td>35.82</td>\n",
       "    </tr>\n",
       "    <tr>\n",
       "      <th>2009</th>\n",
       "      <td>Wii</td>\n",
       "      <td>33.00</td>\n",
       "    </tr>\n",
       "    <tr>\n",
       "      <th>1996</th>\n",
       "      <td>GB</td>\n",
       "      <td>31.37</td>\n",
       "    </tr>\n",
       "    <tr>\n",
       "      <th>2006</th>\n",
       "      <td>DS</td>\n",
       "      <td>30.01</td>\n",
       "    </tr>\n",
       "  </tbody>\n",
       "</table>\n",
       "</div>"
      ],
      "text/plain": [
       "     Platform  Global_Sales\n",
       "Year                       \n",
       "2006      Wii         82.74\n",
       "2008      Wii         35.82\n",
       "2009      Wii         33.00\n",
       "1996       GB         31.37\n",
       "2006       DS         30.01"
      ]
     },
     "execution_count": 13,
     "metadata": {},
     "output_type": "execute_result"
    }
   ],
   "source": [
    "df_plat.set_index([\"Year\"], inplace = True)\n",
    "df_plat.head()"
   ]
  },
  {
   "cell_type": "code",
   "execution_count": 14,
   "id": "e2a1aa78-0ad8-45a8-904c-5307883d8b18",
   "metadata": {},
   "outputs": [],
   "source": [
    "platform_sales = df_plat.groupby(\"Platform\")[\"Global_Sales\"].agg(\"sum\")\n",
    "top_10_platforms = platform_sales.sort_values(ascending=False).head(10).index\n",
    "top_platforms_df = df_plat[df_plat[\"Platform\"].isin(top_10_platforms)].sort_index()\n",
    "\n",
    "pivot_df = top_platforms_df.pivot_table(index='Year', columns='Platform', values='Global_Sales', aggfunc='sum')"
   ]
  },
  {
   "cell_type": "markdown",
   "id": "60b158c6-78e4-4ad3-8b34-7dac4712818c",
   "metadata": {},
   "source": [
    "Let me break down what just happened. First I did your standard `groupby` with sum aggregation which gave us a multi-indexed DF of `Global_Sales`. I then isolated the top ten platforms by sorting in descending order and taking the ten innermost indices (platforms). After isolating the top ten platforms, I used them as a mask to isolate sales only from top ten platforms and sorted them by year. Finally, I made a pivot table from the previous DF, since the transposition of data plays nicer with the `.plot()` method."
   ]
  },
  {
   "cell_type": "code",
   "execution_count": 15,
   "id": "08f1a84c-8d00-482f-a73e-188c466ee3e1",
   "metadata": {},
   "outputs": [
    {
     "data": {
      "image/png": "[encoded data removed]",
      "text/plain": [
       "<Figure size 1000x600 with 1 Axes>"
      ]
     },
     "metadata": {},
     "output_type": "display_data"
    }
   ],
   "source": [
    "pivot_df[top_10_platforms].plot(kind='bar', stacked=True, figsize=(10, 6))\n",
    "\n",
    "plt.xlabel(\"Year\")\n",
    "plt.ylabel(\"Global Sales\")\n",
    "plt.title(\"Market Share of Top 10 Platforms over Time\")\n",
    "plt.legend(title=\"Platform\", loc='upper left')\n",
    "\n",
    "plt.show()"
   ]
  },
  {
   "cell_type": "markdown",
   "id": "1dfc3903-5a1e-4042-a887-fd3c6704c3c1",
   "metadata": {},
   "source": [
    "Most gamers will recognise the handoff between console generations here, but let me be explicit about it. Generations typically occur every six years and are typified by the release of one or more seminal game consoles. The PlayStation released just in time for Christmas in 1994, so we see the stacks change beginning to change in 2000, 2006, and 2012. \n",
    "\n",
    "The first generation shown is simply the PlayStation with little to no competition. In 2000, the PS2, Gameboy Advance, and XBox take the reigns, but the clear winner in sales is the PS2. In 2006 the Wii does not hesitate in taking over the market alongside the Nintendo DS a year prior. Only halfway through this generation, the XBox 360 and PS3 become dominant. Finally, the PS4 takes over after 2012 at the usual rate we see from other consoles (Wii notwithstanding).\n",
    "\n",
    "PlayStation seems to be the most consistently successful platform over its generations with XBox having the same stability but not the same success. Nintendo, on the other hand, seems to pack enormous punch with each of its platforms, while also overlapping the success of multiple platforms at once."
   ]
  },
  {
   "cell_type": "code",
   "execution_count": 16,
   "id": "286b5a96-d1a2-471f-9681-596e27646f42",
   "metadata": {},
   "outputs": [
    {
     "name": "stdout",
     "output_type": "stream",
     "text": [
      "                    df        sum_sq     mean_sq           F        PR(>F)\n",
      "Platform          28.0    792.590301   28.306796   13.377006  1.814959e-61\n",
      "Year               1.0    214.468094  214.468094  101.351662  9.068840e-24\n",
      "Platform:Year     28.0    778.270367   27.795370   13.135320  3.934986e-60\n",
      "Residual       15962.0  33776.848220    2.116079         NaN           NaN\n"
     ]
    }
   ],
   "source": [
    "f = \"Global_Sales ~ Platform + Year + Platform*Year\"\n",
    "mod = smf.ols(formula=f, data=df_plat_yr)\n",
    "res = mod.fit()\n",
    "print(anova_lm(res))"
   ]
  },
  {
   "cell_type": "markdown",
   "id": "e4ebe5b7-cc74-4113-883c-3518d2c71f60",
   "metadata": {},
   "source": [
    "And just to confirm that the platform and time are both relevant factors to game sales, I ran an ANOVA with interaction to show that they are both separately impactful in game sales, and that there is a time trend to consider later on when I perform an autoregression on the data."
   ]
  },
  {
   "cell_type": "markdown",
   "id": "6bd781aa-2f59-4e3f-ad18-dfb9d9fc28d4",
   "metadata": {},
   "source": [
    "### Exploration (Publisher)"
   ]
  },
  {
   "cell_type": "markdown",
   "id": "c4884857-e54d-4744-aec5-cd45d8f94778",
   "metadata": {},
   "source": [
    "The following process is nearly identical to the previous analysis by platform, so markdown will be limited to the end, when analysis is warranted."
   ]
  },
  {
   "cell_type": "code",
   "execution_count": 17,
   "id": "7b638211-9c40-4421-b220-8261678abcf5",
   "metadata": {},
   "outputs": [
    {
     "data": {
      "text/plain": [
       "Publisher\n",
       "Nintendo                        1459.94\n",
       "Electronic Arts                 1093.33\n",
       "Activision                       703.00\n",
       "Sony Computer Entertainment      607.28\n",
       "Ubisoft                          473.25\n",
       "Take-Two Interactive             399.30\n",
       "THQ                              340.44\n",
       "Konami Digital Entertainment     266.74\n",
       "Sega                             255.34\n",
       "Microsoft Game Studios           245.79\n",
       "Name: Global_Sales, dtype: float64"
      ]
     },
     "execution_count": 17,
     "metadata": {},
     "output_type": "execute_result"
    }
   ],
   "source": [
    "agg_pub_sort = data.groupby(\"Publisher\")[\"Global_Sales\"].agg(\"sum\").sort_values(ascending=False).head(10)\n",
    "agg_pub_sort"
   ]
  },
  {
   "cell_type": "code",
   "execution_count": 18,
   "id": "d6ec8954-f2cf-4184-ad76-c15660ab3c3d",
   "metadata": {},
   "outputs": [
    {
     "data": {
      "text/plain": [
       "<Axes: ylabel='Publisher'>"
      ]
     },
     "execution_count": 18,
     "metadata": {},
     "output_type": "execute_result"
    },
    {
     "data": {
      "image/png": "[encoded data removed]",
      "text/plain": [
       "<Figure size 640x480 with 1 Axes>"
      ]
     },
     "metadata": {},
     "output_type": "display_data"
    }
   ],
   "source": [
    "agg_pub_sort.sort_values().plot.barh()"
   ]
  },
  {
   "cell_type": "markdown",
   "id": "f2662e66-0b1e-4309-95d7-672dc3837362",
   "metadata": {},
   "source": [
    "### Market Share (Publisher)"
   ]
  },
  {
   "cell_type": "code",
   "execution_count": 19,
   "id": "97b08a6c-6968-4059-ad65-1115ce67f520",
   "metadata": {},
   "outputs": [
    {
     "data": {
      "text/html": [
       "<div>\n",
       "<style scoped>\n",
       "    .dataframe tbody tr th:only-of-type {\n",
       "        vertical-align: middle;\n",
       "    }\n",
       "\n",
       "    .dataframe tbody tr th {\n",
       "        vertical-align: top;\n",
       "    }\n",
       "\n",
       "    .dataframe thead th {\n",
       "        text-align: right;\n",
       "    }\n",
       "</style>\n",
       "<table border=\"1\" class=\"dataframe\">\n",
       "  <thead>\n",
       "    <tr style=\"text-align: right;\">\n",
       "      <th></th>\n",
       "      <th>Year</th>\n",
       "      <th>Publisher</th>\n",
       "      <th>Global_Sales</th>\n",
       "    </tr>\n",
       "  </thead>\n",
       "  <tbody>\n",
       "    <tr>\n",
       "      <th>0</th>\n",
       "      <td>2006.0</td>\n",
       "      <td>Nintendo</td>\n",
       "      <td>82.74</td>\n",
       "    </tr>\n",
       "    <tr>\n",
       "      <th>2</th>\n",
       "      <td>2008.0</td>\n",
       "      <td>Nintendo</td>\n",
       "      <td>35.82</td>\n",
       "    </tr>\n",
       "    <tr>\n",
       "      <th>3</th>\n",
       "      <td>2009.0</td>\n",
       "      <td>Nintendo</td>\n",
       "      <td>33.00</td>\n",
       "    </tr>\n",
       "    <tr>\n",
       "      <th>4</th>\n",
       "      <td>1996.0</td>\n",
       "      <td>Nintendo</td>\n",
       "      <td>31.37</td>\n",
       "    </tr>\n",
       "    <tr>\n",
       "      <th>6</th>\n",
       "      <td>2006.0</td>\n",
       "      <td>Nintendo</td>\n",
       "      <td>30.01</td>\n",
       "    </tr>\n",
       "  </tbody>\n",
       "</table>\n",
       "</div>"
      ],
      "text/plain": [
       "     Year Publisher  Global_Sales\n",
       "0  2006.0  Nintendo         82.74\n",
       "2  2008.0  Nintendo         35.82\n",
       "3  2009.0  Nintendo         33.00\n",
       "4  1996.0  Nintendo         31.37\n",
       "6  2006.0  Nintendo         30.01"
      ]
     },
     "execution_count": 19,
     "metadata": {},
     "output_type": "execute_result"
    }
   ],
   "source": [
    "df_pub = data[[\"Year\", \"Publisher\", \"Global_Sales\"]].copy()\n",
    "df_pub.head()"
   ]
  },
  {
   "cell_type": "code",
   "execution_count": 20,
   "id": "3867373a-ebd2-4c87-973e-9d68b2316dd2",
   "metadata": {},
   "outputs": [],
   "source": [
    "df_pub[\"Year\"] = df_pub[\"Year\"].astype(int)"
   ]
  },
  {
   "cell_type": "code",
   "execution_count": 21,
   "id": "e7c137e2-1174-4141-a89b-24455fc7e004",
   "metadata": {},
   "outputs": [
    {
     "data": {
      "text/html": [
       "<div>\n",
       "<style scoped>\n",
       "    .dataframe tbody tr th:only-of-type {\n",
       "        vertical-align: middle;\n",
       "    }\n",
       "\n",
       "    .dataframe tbody tr th {\n",
       "        vertical-align: top;\n",
       "    }\n",
       "\n",
       "    .dataframe thead th {\n",
       "        text-align: right;\n",
       "    }\n",
       "</style>\n",
       "<table border=\"1\" class=\"dataframe\">\n",
       "  <thead>\n",
       "    <tr style=\"text-align: right;\">\n",
       "      <th></th>\n",
       "      <th>Publisher</th>\n",
       "      <th>Global_Sales</th>\n",
       "    </tr>\n",
       "    <tr>\n",
       "      <th>Year</th>\n",
       "      <th></th>\n",
       "      <th></th>\n",
       "    </tr>\n",
       "  </thead>\n",
       "  <tbody>\n",
       "    <tr>\n",
       "      <th>2006</th>\n",
       "      <td>Nintendo</td>\n",
       "      <td>82.74</td>\n",
       "    </tr>\n",
       "    <tr>\n",
       "      <th>2008</th>\n",
       "      <td>Nintendo</td>\n",
       "      <td>35.82</td>\n",
       "    </tr>\n",
       "    <tr>\n",
       "      <th>2009</th>\n",
       "      <td>Nintendo</td>\n",
       "      <td>33.00</td>\n",
       "    </tr>\n",
       "    <tr>\n",
       "      <th>1996</th>\n",
       "      <td>Nintendo</td>\n",
       "      <td>31.37</td>\n",
       "    </tr>\n",
       "    <tr>\n",
       "      <th>2006</th>\n",
       "      <td>Nintendo</td>\n",
       "      <td>30.01</td>\n",
       "    </tr>\n",
       "  </tbody>\n",
       "</table>\n",
       "</div>"
      ],
      "text/plain": [
       "     Publisher  Global_Sales\n",
       "Year                        \n",
       "2006  Nintendo         82.74\n",
       "2008  Nintendo         35.82\n",
       "2009  Nintendo         33.00\n",
       "1996  Nintendo         31.37\n",
       "2006  Nintendo         30.01"
      ]
     },
     "execution_count": 21,
     "metadata": {},
     "output_type": "execute_result"
    }
   ],
   "source": [
    "df_pub.set_index([\"Year\"], inplace = True)\n",
    "df_pub.head()"
   ]
  },
  {
   "cell_type": "code",
   "execution_count": 22,
   "id": "3a7b784c-5cdc-4732-9800-39a2f5523a37",
   "metadata": {},
   "outputs": [],
   "source": [
    "top_10_pubs = agg_pub_sort.index\n",
    "top_pubs_df = df_pub[df_pub[\"Publisher\"].isin(top_10_pubs)].sort_index()\n",
    "\n",
    "pub_pivot_df = top_pubs_df.pivot_table(index='Year', columns='Publisher', values='Global_Sales', aggfunc='sum')"
   ]
  },
  {
   "cell_type": "code",
   "execution_count": 23,
   "id": "847edb9d-3cfa-4fad-906e-6df863197975",
   "metadata": {},
   "outputs": [
    {
     "data": {
      "image/png": "[encoded data removed]",
      "text/plain": [
       "<Figure size 1000x600 with 1 Axes>"
      ]
     },
     "metadata": {},
     "output_type": "display_data"
    }
   ],
   "source": [
    "pub_pivot_df[top_10_pubs].plot(kind='bar', stacked=True, figsize=(10, 6))\n",
    "\n",
    "plt.xlabel(\"Year\")\n",
    "plt.ylabel(\"Global Sales\")\n",
    "plt.title(\"Market Share of Top 10 Publishers Over Time\")\n",
    "plt.legend(title=\"Publisher\", loc='upper left')\n",
    "\n",
    "plt.show()"
   ]
  },
  {
   "cell_type": "markdown",
   "id": "9c416b19-ac9b-493e-94fa-5dad7fd840d8",
   "metadata": {},
   "source": [
    "Let's track the top 3 publishers in this chart: Nintendo, EA, and Activision. Nintendo, having had an absolute chokehold on the games released on their platforms until the release of the Switch (2017), keeps a very deep connection between its platform and its games. This connection is clear when we look at 2005 and 2006 with massive spikes in game sales due to the release of the DS, the Wii, and the games that Nintendo published for them. Another spike for Nintendo can be seen in 2009 with the release of *Wii Sports, Wii Sports Resort*, and *Wii Fit (Plus)*. With the aforementioned release of the Switch, many insights about its success (especially during the Covid-19 lockdown) beg further analysis of more recent data.\n",
    "\n",
    "EA has a famously (infamously?) regular release schedule, which is reflected in their steady dominance in market share as a publisher. Their most well-known division, EA Sports, has released yearly entries in highly successful franchises like *Madden NFL* and *FIFA* (until 2022), which has produced consistent sales and profits for the company. EA has come under fire in recent years for its \"cash-grab\" licensed franchises, not to mention its insistence on loot box mechanics and micro transactions. It would be worth analysing more recent data on EA's success, given its widespread criticism.\n",
    "\n",
    "Activision is also know for consistent releases, especially in the *Call of Duty (CoD)* franchise of games. The publisher's first main spike occurs in 2007/8, corresponding to the releas of *CoD 4: Modern Warfare* and *CoD 5: World at War*, two of the most successful games in the FPS genre to date at the time. In 2009, Activision's success was furthered by *CoD: Modern Warfare 2*, which revolutionised the multiplayer experience for FPS games, even beyond the effect of the first *Modern Warfare*. Now on par with EA's yearly release schedule, and with a penchant for re-releasing its most successful games, it would be prudent -- alongside EA -- to re-analyse its success past 2016."
   ]
  },
  {
   "cell_type": "markdown",
   "id": "6326de20-a2b7-48a1-b507-87c7b5e85ff2",
   "metadata": {},
   "source": [
    "## Autoregression Model"
   ]
  },
  {
   "cell_type": "markdown",
   "id": "22e6c265-7018-407a-955f-11dd7c38a832",
   "metadata": {},
   "source": [
    "The questions I want to answer with the autoregression are: \"is the games industry growing regardless of a simple trend\" and \"are console generations more relevant than the widely-adopted yearly release schedule?\""
   ]
  },
  {
   "cell_type": "markdown",
   "id": "9aadc1b6-25ed-432d-9610-16cbbfea3a2d",
   "metadata": {},
   "source": [
    "To begin, I will just load the year and sales data for a pure AR model."
   ]
  },
  {
   "cell_type": "code",
   "execution_count": 24,
   "id": "4ecfe3e6-3ebf-40be-9a9f-35f1dfab1ba9",
   "metadata": {},
   "outputs": [
    {
     "data": {
      "text/html": [
       "<div>\n",
       "<style scoped>\n",
       "    .dataframe tbody tr th:only-of-type {\n",
       "        vertical-align: middle;\n",
       "    }\n",
       "\n",
       "    .dataframe tbody tr th {\n",
       "        vertical-align: top;\n",
       "    }\n",
       "\n",
       "    .dataframe thead th {\n",
       "        text-align: right;\n",
       "    }\n",
       "</style>\n",
       "<table border=\"1\" class=\"dataframe\">\n",
       "  <thead>\n",
       "    <tr style=\"text-align: right;\">\n",
       "      <th></th>\n",
       "      <th>Year</th>\n",
       "      <th>Global_Sales</th>\n",
       "    </tr>\n",
       "  </thead>\n",
       "  <tbody>\n",
       "    <tr>\n",
       "      <th>0</th>\n",
       "      <td>2006.0</td>\n",
       "      <td>82.74</td>\n",
       "    </tr>\n",
       "    <tr>\n",
       "      <th>2</th>\n",
       "      <td>2008.0</td>\n",
       "      <td>35.82</td>\n",
       "    </tr>\n",
       "    <tr>\n",
       "      <th>3</th>\n",
       "      <td>2009.0</td>\n",
       "      <td>33.00</td>\n",
       "    </tr>\n",
       "    <tr>\n",
       "      <th>4</th>\n",
       "      <td>1996.0</td>\n",
       "      <td>31.37</td>\n",
       "    </tr>\n",
       "    <tr>\n",
       "      <th>6</th>\n",
       "      <td>2006.0</td>\n",
       "      <td>30.01</td>\n",
       "    </tr>\n",
       "  </tbody>\n",
       "</table>\n",
       "</div>"
      ],
      "text/plain": [
       "     Year  Global_Sales\n",
       "0  2006.0         82.74\n",
       "2  2008.0         35.82\n",
       "3  2009.0         33.00\n",
       "4  1996.0         31.37\n",
       "6  2006.0         30.01"
      ]
     },
     "execution_count": 24,
     "metadata": {},
     "output_type": "execute_result"
    }
   ],
   "source": [
    "df_ts = data[[\"Year\", \"Global_Sales\"]].copy()\n",
    "df_ts.head()"
   ]
  },
  {
   "cell_type": "code",
   "execution_count": 25,
   "id": "91e1eda8-89af-4b5e-b5bb-63a2f729b64e",
   "metadata": {},
   "outputs": [],
   "source": [
    "df_ts[\"Year\"] = df_ts[\"Year\"].astype(int)"
   ]
  },
  {
   "cell_type": "code",
   "execution_count": 26,
   "id": "1f539749-02e0-4c53-a278-2c5ff66e9282",
   "metadata": {},
   "outputs": [
    {
     "data": {
      "text/html": [
       "<div>\n",
       "<style scoped>\n",
       "    .dataframe tbody tr th:only-of-type {\n",
       "        vertical-align: middle;\n",
       "    }\n",
       "\n",
       "    .dataframe tbody tr th {\n",
       "        vertical-align: top;\n",
       "    }\n",
       "\n",
       "    .dataframe thead th {\n",
       "        text-align: right;\n",
       "    }\n",
       "</style>\n",
       "<table border=\"1\" class=\"dataframe\">\n",
       "  <thead>\n",
       "    <tr style=\"text-align: right;\">\n",
       "      <th></th>\n",
       "      <th>Year</th>\n",
       "      <th>Global_Sales</th>\n",
       "    </tr>\n",
       "  </thead>\n",
       "  <tbody>\n",
       "    <tr>\n",
       "      <th>0</th>\n",
       "      <td>2006</td>\n",
       "      <td>82.74</td>\n",
       "    </tr>\n",
       "    <tr>\n",
       "      <th>2</th>\n",
       "      <td>2008</td>\n",
       "      <td>35.82</td>\n",
       "    </tr>\n",
       "    <tr>\n",
       "      <th>3</th>\n",
       "      <td>2009</td>\n",
       "      <td>33.00</td>\n",
       "    </tr>\n",
       "    <tr>\n",
       "      <th>4</th>\n",
       "      <td>1996</td>\n",
       "      <td>31.37</td>\n",
       "    </tr>\n",
       "    <tr>\n",
       "      <th>6</th>\n",
       "      <td>2006</td>\n",
       "      <td>30.01</td>\n",
       "    </tr>\n",
       "  </tbody>\n",
       "</table>\n",
       "</div>"
      ],
      "text/plain": [
       "   Year  Global_Sales\n",
       "0  2006         82.74\n",
       "2  2008         35.82\n",
       "3  2009         33.00\n",
       "4  1996         31.37\n",
       "6  2006         30.01"
      ]
     },
     "execution_count": 26,
     "metadata": {},
     "output_type": "execute_result"
    }
   ],
   "source": [
    "df_ts.head()"
   ]
  },
  {
   "cell_type": "code",
   "execution_count": 27,
   "id": "e34d71e9-d79d-4730-85e4-5269a9e23966",
   "metadata": {},
   "outputs": [],
   "source": [
    "df_ts_yr = df_ts.groupby(\"Year\").agg(\"sum\")"
   ]
  },
  {
   "cell_type": "code",
   "execution_count": 28,
   "id": "5687967b-71f3-4a2f-93e5-ae8a36252464",
   "metadata": {},
   "outputs": [
    {
     "data": {
      "text/html": [
       "<div>\n",
       "<style scoped>\n",
       "    .dataframe tbody tr th:only-of-type {\n",
       "        vertical-align: middle;\n",
       "    }\n",
       "\n",
       "    .dataframe tbody tr th {\n",
       "        vertical-align: top;\n",
       "    }\n",
       "\n",
       "    .dataframe thead th {\n",
       "        text-align: right;\n",
       "    }\n",
       "</style>\n",
       "<table border=\"1\" class=\"dataframe\">\n",
       "  <thead>\n",
       "    <tr style=\"text-align: right;\">\n",
       "      <th></th>\n",
       "      <th>Global_Sales</th>\n",
       "    </tr>\n",
       "    <tr>\n",
       "      <th>Year</th>\n",
       "      <th></th>\n",
       "    </tr>\n",
       "  </thead>\n",
       "  <tbody>\n",
       "    <tr>\n",
       "      <th>1993</th>\n",
       "      <td>45.98</td>\n",
       "    </tr>\n",
       "    <tr>\n",
       "      <th>1994</th>\n",
       "      <td>79.17</td>\n",
       "    </tr>\n",
       "    <tr>\n",
       "      <th>1995</th>\n",
       "      <td>88.11</td>\n",
       "    </tr>\n",
       "    <tr>\n",
       "      <th>1996</th>\n",
       "      <td>199.15</td>\n",
       "    </tr>\n",
       "    <tr>\n",
       "      <th>1997</th>\n",
       "      <td>200.98</td>\n",
       "    </tr>\n",
       "  </tbody>\n",
       "</table>\n",
       "</div>"
      ],
      "text/plain": [
       "      Global_Sales\n",
       "Year              \n",
       "1993         45.98\n",
       "1994         79.17\n",
       "1995         88.11\n",
       "1996        199.15\n",
       "1997        200.98"
      ]
     },
     "execution_count": 28,
     "metadata": {},
     "output_type": "execute_result"
    }
   ],
   "source": [
    "df_ts_yr.head()"
   ]
  },
  {
   "cell_type": "markdown",
   "id": "46a0caa8-9eed-4d62-9405-f9de8904813c",
   "metadata": {},
   "source": [
    "To play nicely with the `statsmodels.tsa.ar_model.AutoReg()` method, I will convert the years into datetime format with a defined frequency."
   ]
  },
  {
   "cell_type": "code",
   "execution_count": 29,
   "id": "b7b1c672-a9fa-4234-9a30-242082916edf",
   "metadata": {},
   "outputs": [
    {
     "data": {
      "text/html": [
       "<div>\n",
       "<style scoped>\n",
       "    .dataframe tbody tr th:only-of-type {\n",
       "        vertical-align: middle;\n",
       "    }\n",
       "\n",
       "    .dataframe tbody tr th {\n",
       "        vertical-align: top;\n",
       "    }\n",
       "\n",
       "    .dataframe thead th {\n",
       "        text-align: right;\n",
       "    }\n",
       "</style>\n",
       "<table border=\"1\" class=\"dataframe\">\n",
       "  <thead>\n",
       "    <tr style=\"text-align: right;\">\n",
       "      <th></th>\n",
       "      <th>Global_Sales</th>\n",
       "    </tr>\n",
       "  </thead>\n",
       "  <tbody>\n",
       "    <tr>\n",
       "      <th>1993-01-01</th>\n",
       "      <td>45.98</td>\n",
       "    </tr>\n",
       "    <tr>\n",
       "      <th>1994-01-01</th>\n",
       "      <td>79.17</td>\n",
       "    </tr>\n",
       "    <tr>\n",
       "      <th>1995-01-01</th>\n",
       "      <td>88.11</td>\n",
       "    </tr>\n",
       "    <tr>\n",
       "      <th>1996-01-01</th>\n",
       "      <td>199.15</td>\n",
       "    </tr>\n",
       "    <tr>\n",
       "      <th>1997-01-01</th>\n",
       "      <td>200.98</td>\n",
       "    </tr>\n",
       "  </tbody>\n",
       "</table>\n",
       "</div>"
      ],
      "text/plain": [
       "            Global_Sales\n",
       "1993-01-01         45.98\n",
       "1994-01-01         79.17\n",
       "1995-01-01         88.11\n",
       "1996-01-01        199.15\n",
       "1997-01-01        200.98"
      ]
     },
     "execution_count": 29,
     "metadata": {},
     "output_type": "execute_result"
    }
   ],
   "source": [
    "df_ts_yr.index = pd.to_datetime(df_ts_yr.index, format=\"%Y\")\n",
    "df_ts_yr.index = pd.DatetimeIndex(df_ts_yr.index.values, freq=\"AS\")\n",
    "df_ts_yr.head()"
   ]
  },
  {
   "cell_type": "markdown",
   "id": "cf04e5cb-f368-4731-9dbf-275a2a6309b3",
   "metadata": {},
   "source": [
    "Now I run an AR(1) model on the data with constant and trend to answer whether the games industry is growing beyond the rate that a linear trend would suggest."
   ]
  },
  {
   "cell_type": "code",
   "execution_count": 30,
   "id": "19ec6c9e-a731-4700-a7e9-628f597a4e81",
   "metadata": {},
   "outputs": [
    {
     "name": "stdout",
     "output_type": "stream",
     "text": [
      "                            AutoReg Model Results                             \n",
      "==============================================================================\n",
      "Dep. Variable:           Global_Sales   No. Observations:                   24\n",
      "Model:                     AutoReg(1)   Log Likelihood                -127.781\n",
      "Method:               Conditional MLE   S.D. of innovations             62.600\n",
      "Date:                Fri, 19 Jan 2024   AIC                            263.562\n",
      "Time:                        17:21:53   BIC                            268.104\n",
      "Sample:                    01-01-1994   HQIC                           264.705\n",
      "                         - 01-01-2016                                         \n",
      "===================================================================================\n",
      "                      coef    std err          z      P>|z|      [0.025      0.975]\n",
      "-----------------------------------------------------------------------------------\n",
      "const              75.9206     31.100      2.441      0.015      14.965     136.876\n",
      "trend              -8.8020      2.639     -3.335      0.001     -13.975      -3.629\n",
      "Global_Sales.L1     1.1108      0.097     11.402      0.000       0.920       1.302\n",
      "                                    Roots                                    \n",
      "=============================================================================\n",
      "                  Real          Imaginary           Modulus         Frequency\n",
      "-----------------------------------------------------------------------------\n",
      "AR.1            0.9002           +0.0000j            0.9002            0.0000\n",
      "-----------------------------------------------------------------------------\n"
     ]
    }
   ],
   "source": [
    "mod1 = AutoReg(df_ts_yr, 1, trend=\"ct\")\n",
    "res1 = mod1.fit()\n",
    "print(res1.summary())"
   ]
  },
  {
   "cell_type": "markdown",
   "id": "af3d2ff6-0b23-4b2d-adfc-8e41bdbed79c",
   "metadata": {},
   "source": [
    "Our question is answered: the industry is growing all right!"
   ]
  },
  {
   "cell_type": "markdown",
   "id": "7646d426-9c0c-4515-9d7c-f4a218c4ecec",
   "metadata": {},
   "source": [
    "Now I want to see if the shift in console generation is relevant at all to game sales, so I run an AR(6) model to check this assumption."
   ]
  },
  {
   "cell_type": "code",
   "execution_count": 31,
   "id": "3a3b8950-09fb-4690-8b3b-0c978c294e5e",
   "metadata": {},
   "outputs": [
    {
     "name": "stdout",
     "output_type": "stream",
     "text": [
      "                            AutoReg Model Results                             \n",
      "==============================================================================\n",
      "Dep. Variable:           Global_Sales   No. Observations:                   24\n",
      "Model:                     AutoReg(6)   Log Likelihood                 -98.885\n",
      "Method:               Conditional MLE   S.D. of innovations             58.830\n",
      "Date:                Fri, 19 Jan 2024   AIC                            215.769\n",
      "Time:                        17:21:53   BIC                            223.783\n",
      "Sample:                    01-01-1999   HQIC                           216.874\n",
      "                         - 01-01-2016                                         \n",
      "===================================================================================\n",
      "                      coef    std err          z      P>|z|      [0.025      0.975]\n",
      "-----------------------------------------------------------------------------------\n",
      "const             163.6744     90.832      1.802      0.072     -14.353     341.702\n",
      "trend             -22.9880     14.070     -1.634      0.102     -50.565       4.589\n",
      "Global_Sales.L1     1.4338      0.254      5.636      0.000       0.935       1.932\n",
      "Global_Sales.L2    -0.5080      0.409     -1.243      0.214      -1.309       0.293\n",
      "Global_Sales.L3     0.2401      0.362      0.662      0.508      -0.470       0.950\n",
      "Global_Sales.L4    -0.3447      0.352     -0.981      0.327      -1.034       0.344\n",
      "Global_Sales.L5     0.6814      0.416      1.637      0.102      -0.134       1.497\n",
      "Global_Sales.L6    -0.0261      0.421     -0.062      0.951      -0.851       0.799\n",
      "                                    Roots                                    \n",
      "=============================================================================\n",
      "                  Real          Imaginary           Modulus         Frequency\n",
      "-----------------------------------------------------------------------------\n",
      "AR.1            0.7882           -0.0000j            0.7882           -0.0000\n",
      "AR.2            0.6788           -0.8491j            1.0871           -0.1427\n",
      "AR.3            0.6788           +0.8491j            1.0871            0.1427\n",
      "AR.4           -0.8215           -0.9652j            1.2674           -0.3622\n",
      "AR.5           -0.8215           +0.9652j            1.2674            0.3622\n",
      "AR.6           25.6386           -0.0000j           25.6386           -0.0000\n",
      "-----------------------------------------------------------------------------\n"
     ]
    }
   ],
   "source": [
    "mod6 = AutoReg(df_ts_yr, 6, trend=\"ct\")\n",
    "res6 = mod6.fit()\n",
    "print(res6.summary())"
   ]
  },
  {
   "cell_type": "markdown",
   "id": "c6ea236c-c610-44eb-afba-bbfcea87d5d9",
   "metadata": {},
   "source": [
    "The answer is a resounding no. The only thing that matters to game sales over time is the next entry in a franchise or the release of a new IP, console generations have nothing to do with it."
   ]
  },
  {
   "cell_type": "markdown",
   "id": "1e19d80c-42fb-4afe-8ebc-94705860d105",
   "metadata": {},
   "source": [
    "## Exploration of Top Franchises"
   ]
  },
  {
   "cell_type": "markdown",
   "id": "2b7eab90-8684-4360-928a-b97a2b80c006",
   "metadata": {},
   "source": [
    "In this section I will take a look at the most popular/well-known franchises (in my experience) from the top 3 publishers that we looked at (Nintendo, EA, and Activision). I will examine them in reverse order of publisher market share."
   ]
  },
  {
   "cell_type": "markdown",
   "id": "65af9a98-3513-4387-9ab2-9c11ecfaac80",
   "metadata": {},
   "source": [
    "### Call of Duty (Activision)"
   ]
  },
  {
   "cell_type": "markdown",
   "id": "e6a16c13-a5f4-4887-a159-904bb152db1f",
   "metadata": {},
   "source": [
    "First, I'll look at the *Call of Duty* franchise, since the highest spikes in Activision's market share occurred around times that a new entry in the CoD series of games. I will need to create a dataset of all the games containing \"Call of Duty\" in their name."
   ]
  },
  {
   "cell_type": "code",
   "execution_count": 32,
   "id": "057a18d6-9c36-4fd9-b479-1bfba3380467",
   "metadata": {},
   "outputs": [
    {
     "data": {
      "text/html": [
       "<div>\n",
       "<style scoped>\n",
       "    .dataframe tbody tr th:only-of-type {\n",
       "        vertical-align: middle;\n",
       "    }\n",
       "\n",
       "    .dataframe tbody tr th {\n",
       "        vertical-align: top;\n",
       "    }\n",
       "\n",
       "    .dataframe thead th {\n",
       "        text-align: right;\n",
       "    }\n",
       "</style>\n",
       "<table border=\"1\" class=\"dataframe\">\n",
       "  <thead>\n",
       "    <tr style=\"text-align: right;\">\n",
       "      <th></th>\n",
       "      <th>Rank</th>\n",
       "      <th>Name</th>\n",
       "      <th>Platform</th>\n",
       "      <th>Genre</th>\n",
       "      <th>Publisher</th>\n",
       "      <th>NA_Sales</th>\n",
       "      <th>EU_Sales</th>\n",
       "      <th>JP_Sales</th>\n",
       "      <th>Other_Sales</th>\n",
       "      <th>Global_Sales</th>\n",
       "    </tr>\n",
       "    <tr>\n",
       "      <th>Year</th>\n",
       "      <th></th>\n",
       "      <th></th>\n",
       "      <th></th>\n",
       "      <th></th>\n",
       "      <th></th>\n",
       "      <th></th>\n",
       "      <th></th>\n",
       "      <th></th>\n",
       "      <th></th>\n",
       "      <th></th>\n",
       "    </tr>\n",
       "  </thead>\n",
       "  <tbody>\n",
       "    <tr>\n",
       "      <th>2011</th>\n",
       "      <td>30</td>\n",
       "      <td>Call of Duty: Modern Warfare 3</td>\n",
       "      <td>X360</td>\n",
       "      <td>Shooter</td>\n",
       "      <td>Activision</td>\n",
       "      <td>9.03</td>\n",
       "      <td>4.28</td>\n",
       "      <td>0.13</td>\n",
       "      <td>1.32</td>\n",
       "      <td>14.76</td>\n",
       "    </tr>\n",
       "    <tr>\n",
       "      <th>2010</th>\n",
       "      <td>32</td>\n",
       "      <td>Call of Duty: Black Ops</td>\n",
       "      <td>X360</td>\n",
       "      <td>Shooter</td>\n",
       "      <td>Activision</td>\n",
       "      <td>9.67</td>\n",
       "      <td>3.73</td>\n",
       "      <td>0.11</td>\n",
       "      <td>1.13</td>\n",
       "      <td>14.64</td>\n",
       "    </tr>\n",
       "    <tr>\n",
       "      <th>2015</th>\n",
       "      <td>34</td>\n",
       "      <td>Call of Duty: Black Ops 3</td>\n",
       "      <td>PS4</td>\n",
       "      <td>Shooter</td>\n",
       "      <td>Activision</td>\n",
       "      <td>5.77</td>\n",
       "      <td>5.81</td>\n",
       "      <td>0.35</td>\n",
       "      <td>2.31</td>\n",
       "      <td>14.24</td>\n",
       "    </tr>\n",
       "    <tr>\n",
       "      <th>2012</th>\n",
       "      <td>35</td>\n",
       "      <td>Call of Duty: Black Ops II</td>\n",
       "      <td>PS3</td>\n",
       "      <td>Shooter</td>\n",
       "      <td>Activision</td>\n",
       "      <td>4.99</td>\n",
       "      <td>5.88</td>\n",
       "      <td>0.65</td>\n",
       "      <td>2.52</td>\n",
       "      <td>14.03</td>\n",
       "    </tr>\n",
       "    <tr>\n",
       "      <th>2012</th>\n",
       "      <td>36</td>\n",
       "      <td>Call of Duty: Black Ops II</td>\n",
       "      <td>X360</td>\n",
       "      <td>Shooter</td>\n",
       "      <td>Activision</td>\n",
       "      <td>8.25</td>\n",
       "      <td>4.30</td>\n",
       "      <td>0.07</td>\n",
       "      <td>1.12</td>\n",
       "      <td>13.73</td>\n",
       "    </tr>\n",
       "    <tr>\n",
       "      <th>2009</th>\n",
       "      <td>37</td>\n",
       "      <td>Call of Duty: Modern Warfare 2</td>\n",
       "      <td>X360</td>\n",
       "      <td>Shooter</td>\n",
       "      <td>Activision</td>\n",
       "      <td>8.52</td>\n",
       "      <td>3.63</td>\n",
       "      <td>0.08</td>\n",
       "      <td>1.29</td>\n",
       "      <td>13.51</td>\n",
       "    </tr>\n",
       "    <tr>\n",
       "      <th>2011</th>\n",
       "      <td>38</td>\n",
       "      <td>Call of Duty: Modern Warfare 3</td>\n",
       "      <td>PS3</td>\n",
       "      <td>Shooter</td>\n",
       "      <td>Activision</td>\n",
       "      <td>5.54</td>\n",
       "      <td>5.82</td>\n",
       "      <td>0.49</td>\n",
       "      <td>1.62</td>\n",
       "      <td>13.46</td>\n",
       "    </tr>\n",
       "    <tr>\n",
       "      <th>2010</th>\n",
       "      <td>41</td>\n",
       "      <td>Call of Duty: Black Ops</td>\n",
       "      <td>PS3</td>\n",
       "      <td>Shooter</td>\n",
       "      <td>Activision</td>\n",
       "      <td>5.98</td>\n",
       "      <td>4.44</td>\n",
       "      <td>0.48</td>\n",
       "      <td>1.83</td>\n",
       "      <td>12.73</td>\n",
       "    </tr>\n",
       "    <tr>\n",
       "      <th>2009</th>\n",
       "      <td>56</td>\n",
       "      <td>Call of Duty: Modern Warfare 2</td>\n",
       "      <td>PS3</td>\n",
       "      <td>Shooter</td>\n",
       "      <td>Activision</td>\n",
       "      <td>4.99</td>\n",
       "      <td>3.69</td>\n",
       "      <td>0.38</td>\n",
       "      <td>1.63</td>\n",
       "      <td>10.69</td>\n",
       "    </tr>\n",
       "    <tr>\n",
       "      <th>2013</th>\n",
       "      <td>62</td>\n",
       "      <td>Call of Duty: Ghosts</td>\n",
       "      <td>X360</td>\n",
       "      <td>Shooter</td>\n",
       "      <td>Activision</td>\n",
       "      <td>6.72</td>\n",
       "      <td>2.63</td>\n",
       "      <td>0.04</td>\n",
       "      <td>0.82</td>\n",
       "      <td>10.21</td>\n",
       "    </tr>\n",
       "  </tbody>\n",
       "</table>\n",
       "</div>"
      ],
      "text/plain": [
       "      Rank                            Name Platform    Genre   Publisher  \\\n",
       "Year                                                                       \n",
       "2011    30  Call of Duty: Modern Warfare 3     X360  Shooter  Activision   \n",
       "2010    32         Call of Duty: Black Ops     X360  Shooter  Activision   \n",
       "2015    34       Call of Duty: Black Ops 3      PS4  Shooter  Activision   \n",
       "2012    35      Call of Duty: Black Ops II      PS3  Shooter  Activision   \n",
       "2012    36      Call of Duty: Black Ops II     X360  Shooter  Activision   \n",
       "2009    37  Call of Duty: Modern Warfare 2     X360  Shooter  Activision   \n",
       "2011    38  Call of Duty: Modern Warfare 3      PS3  Shooter  Activision   \n",
       "2010    41         Call of Duty: Black Ops      PS3  Shooter  Activision   \n",
       "2009    56  Call of Duty: Modern Warfare 2      PS3  Shooter  Activision   \n",
       "2013    62            Call of Duty: Ghosts     X360  Shooter  Activision   \n",
       "\n",
       "      NA_Sales  EU_Sales  JP_Sales  Other_Sales  Global_Sales  \n",
       "Year                                                           \n",
       "2011      9.03      4.28      0.13         1.32         14.76  \n",
       "2010      9.67      3.73      0.11         1.13         14.64  \n",
       "2015      5.77      5.81      0.35         2.31         14.24  \n",
       "2012      4.99      5.88      0.65         2.52         14.03  \n",
       "2012      8.25      4.30      0.07         1.12         13.73  \n",
       "2009      8.52      3.63      0.08         1.29         13.51  \n",
       "2011      5.54      5.82      0.49         1.62         13.46  \n",
       "2010      5.98      4.44      0.48         1.83         12.73  \n",
       "2009      4.99      3.69      0.38         1.63         10.69  \n",
       "2013      6.72      2.63      0.04         0.82         10.21  "
      ]
     },
     "execution_count": 32,
     "metadata": {},
     "output_type": "execute_result"
    }
   ],
   "source": [
    "cod_games = data[data['Name'].str.contains(\"Call of Duty\")].copy()\n",
    "cod_games['Year'] = cod_games['Year'].astype(int)\n",
    "cod_games = cod_games.set_index('Year')\n",
    "cod_games.head(10)"
   ]
  },
  {
   "cell_type": "markdown",
   "id": "71e1e3bc-f959-49c6-84d2-9f583c1e049e",
   "metadata": {},
   "source": [
    "Now I want to see which platform the *Call of Duty* franchise has been most successful on. As we'll see, our memories of CoD XBox Live lobbies are not to be mistrusted."
   ]
  },
  {
   "cell_type": "code",
   "execution_count": 33,
   "id": "cad6dc67-5974-439a-8a46-c4d3a4ae91fe",
   "metadata": {},
   "outputs": [
    {
     "data": {
      "text/plain": [
       "<Axes: xlabel='Platform', ylabel='Millions of Copies Sold'>"
      ]
     },
     "execution_count": 33,
     "metadata": {},
     "output_type": "execute_result"
    },
    {
     "data": {
      "image/png": "[encoded data removed]",
      "text/plain": [
       "<Figure size 640x480 with 1 Axes>"
      ]
     },
     "metadata": {},
     "output_type": "display_data"
    }
   ],
   "source": [
    "cod_games.groupby('Platform')['Global_Sales'].agg('sum').sort_values(ascending=False).plot.bar(ylabel='Millions of Copies Sold')"
   ]
  },
  {
   "cell_type": "code",
   "execution_count": 34,
   "id": "22db43fd-611e-4dc5-a822-dd0bfed454e7",
   "metadata": {},
   "outputs": [
    {
     "data": {
      "text/plain": [
       "<Axes: xlabel='Millions of Copies Sold', ylabel='Entry in Franchise'>"
      ]
     },
     "execution_count": 34,
     "metadata": {},
     "output_type": "execute_result"
    },
    {
     "data": {
      "image/png": "[encoded data removed]",
      "text/plain": [
       "<Figure size 640x480 with 1 Axes>"
      ]
     },
     "metadata": {},
     "output_type": "display_data"
    }
   ],
   "source": [
    "cod_games.groupby('Name')['Global_Sales'].agg('sum').sort_values().plot.barh(xlabel='Millions of Copies Sold', ylabel='Entry in Franchise')"
   ]
  },
  {
   "cell_type": "markdown",
   "id": "cc2bcc55-980d-49df-827a-82daa910028b",
   "metadata": {},
   "source": [
    "The meat and potatoes of this analysis is really which entry in each franchise was most successful. I am shocked to see MW3 as the winner and BO2 as the runner-up in the above chart, but I suppose it makes sense. Common consensus from anecdotal sources suggests that MW2 and BO1 were generally better games. Nevertheless, it occurred to me that -- given the acclaim of these games -- it isn't unexpected that fans bought their direct sequels in droves."
   ]
  },
  {
   "cell_type": "code",
   "execution_count": 35,
   "id": "8af051e3-d8ae-4888-b45e-75cf63ebb4d0",
   "metadata": {},
   "outputs": [
    {
     "data": {
      "text/plain": [
       "<Axes: xlabel='Millions of Copies Sold', ylabel='Entry in Franchise'>"
      ]
     },
     "execution_count": 35,
     "metadata": {},
     "output_type": "execute_result"
    },
    {
     "data": {
      "image/png": "[encoded data removed]",
      "text/plain": [
       "<Figure size 640x480 with 1 Axes>"
      ]
     },
     "metadata": {},
     "output_type": "display_data"
    }
   ],
   "source": [
    "cod_games.groupby('Year')['Global_Sales'].agg('sum').sort_index().plot.line(xlabel='Millions of Copies Sold', ylabel='Entry in Franchise')"
   ]
  },
  {
   "cell_type": "markdown",
   "id": "09707417-1483-4ad9-84f9-56e09d93e323",
   "metadata": {},
   "source": [
    "Finally, the success of the franchise can be seen peaking around 2012, which is also roughly the last time I bought a *Call of Duty* game. Although this checks out for me, I would be interested to see how recent re-releases and newer entries in the series have fared."
   ]
  },
  {
   "cell_type": "markdown",
   "id": "c1936e08-9652-47a2-aca5-36f16bb7f7ab",
   "metadata": {},
   "source": [
    "### FIFA (EA)"
   ]
  },
  {
   "cell_type": "markdown",
   "id": "329327f2-d1b2-4509-a94a-a53c77f5359e",
   "metadata": {},
   "source": [
    "Next on the block is the *FIFA* franchise, known for its boring consistency. In fact, I don't analyse by title because for each year, $y$,  *FIFA* $(y+1)$ is released."
   ]
  },
  {
   "cell_type": "code",
   "execution_count": 36,
   "id": "c6e83fe6-c198-420f-a448-b9fae7cebb51",
   "metadata": {},
   "outputs": [
    {
     "data": {
      "text/html": [
       "<div>\n",
       "<style scoped>\n",
       "    .dataframe tbody tr th:only-of-type {\n",
       "        vertical-align: middle;\n",
       "    }\n",
       "\n",
       "    .dataframe tbody tr th {\n",
       "        vertical-align: top;\n",
       "    }\n",
       "\n",
       "    .dataframe thead th {\n",
       "        text-align: right;\n",
       "    }\n",
       "</style>\n",
       "<table border=\"1\" class=\"dataframe\">\n",
       "  <thead>\n",
       "    <tr style=\"text-align: right;\">\n",
       "      <th></th>\n",
       "      <th>Rank</th>\n",
       "      <th>Name</th>\n",
       "      <th>Platform</th>\n",
       "      <th>Genre</th>\n",
       "      <th>Publisher</th>\n",
       "      <th>NA_Sales</th>\n",
       "      <th>EU_Sales</th>\n",
       "      <th>JP_Sales</th>\n",
       "      <th>Other_Sales</th>\n",
       "      <th>Global_Sales</th>\n",
       "    </tr>\n",
       "    <tr>\n",
       "      <th>Year</th>\n",
       "      <th></th>\n",
       "      <th></th>\n",
       "      <th></th>\n",
       "      <th></th>\n",
       "      <th></th>\n",
       "      <th></th>\n",
       "      <th></th>\n",
       "      <th></th>\n",
       "      <th></th>\n",
       "      <th></th>\n",
       "    </tr>\n",
       "  </thead>\n",
       "  <tbody>\n",
       "    <tr>\n",
       "      <th>2015</th>\n",
       "      <td>78</td>\n",
       "      <td>FIFA 16</td>\n",
       "      <td>PS4</td>\n",
       "      <td>Sports</td>\n",
       "      <td>Electronic Arts</td>\n",
       "      <td>1.11</td>\n",
       "      <td>6.06</td>\n",
       "      <td>0.06</td>\n",
       "      <td>1.26</td>\n",
       "      <td>8.49</td>\n",
       "    </tr>\n",
       "    <tr>\n",
       "      <th>2012</th>\n",
       "      <td>83</td>\n",
       "      <td>FIFA Soccer 13</td>\n",
       "      <td>PS3</td>\n",
       "      <td>Action</td>\n",
       "      <td>Electronic Arts</td>\n",
       "      <td>1.06</td>\n",
       "      <td>5.05</td>\n",
       "      <td>0.13</td>\n",
       "      <td>2.01</td>\n",
       "      <td>8.24</td>\n",
       "    </tr>\n",
       "    <tr>\n",
       "      <th>2013</th>\n",
       "      <td>113</td>\n",
       "      <td>FIFA 14</td>\n",
       "      <td>PS3</td>\n",
       "      <td>Sports</td>\n",
       "      <td>Electronic Arts</td>\n",
       "      <td>0.78</td>\n",
       "      <td>4.32</td>\n",
       "      <td>0.07</td>\n",
       "      <td>1.73</td>\n",
       "      <td>6.90</td>\n",
       "    </tr>\n",
       "    <tr>\n",
       "      <th>2011</th>\n",
       "      <td>122</td>\n",
       "      <td>FIFA 12</td>\n",
       "      <td>PS3</td>\n",
       "      <td>Sports</td>\n",
       "      <td>Electronic Arts</td>\n",
       "      <td>0.84</td>\n",
       "      <td>4.32</td>\n",
       "      <td>0.11</td>\n",
       "      <td>1.42</td>\n",
       "      <td>6.69</td>\n",
       "    </tr>\n",
       "    <tr>\n",
       "      <th>2014</th>\n",
       "      <td>125</td>\n",
       "      <td>FIFA 15</td>\n",
       "      <td>PS4</td>\n",
       "      <td>Sports</td>\n",
       "      <td>Electronic Arts</td>\n",
       "      <td>0.79</td>\n",
       "      <td>4.29</td>\n",
       "      <td>0.05</td>\n",
       "      <td>1.47</td>\n",
       "      <td>6.59</td>\n",
       "    </tr>\n",
       "    <tr>\n",
       "      <th>2012</th>\n",
       "      <td>186</td>\n",
       "      <td>FIFA Soccer 13</td>\n",
       "      <td>X360</td>\n",
       "      <td>Action</td>\n",
       "      <td>Electronic Arts</td>\n",
       "      <td>1.08</td>\n",
       "      <td>3.48</td>\n",
       "      <td>0.03</td>\n",
       "      <td>0.58</td>\n",
       "      <td>5.18</td>\n",
       "    </tr>\n",
       "    <tr>\n",
       "      <th>2010</th>\n",
       "      <td>200</td>\n",
       "      <td>FIFA Soccer 11</td>\n",
       "      <td>PS3</td>\n",
       "      <td>Sports</td>\n",
       "      <td>Electronic Arts</td>\n",
       "      <td>0.60</td>\n",
       "      <td>3.29</td>\n",
       "      <td>0.06</td>\n",
       "      <td>1.13</td>\n",
       "      <td>5.08</td>\n",
       "    </tr>\n",
       "    <tr>\n",
       "      <th>2014</th>\n",
       "      <td>220</td>\n",
       "      <td>FIFA 15</td>\n",
       "      <td>PS3</td>\n",
       "      <td>Sports</td>\n",
       "      <td>Electronic Arts</td>\n",
       "      <td>0.57</td>\n",
       "      <td>3.14</td>\n",
       "      <td>0.04</td>\n",
       "      <td>1.07</td>\n",
       "      <td>4.82</td>\n",
       "    </tr>\n",
       "    <tr>\n",
       "      <th>2016</th>\n",
       "      <td>222</td>\n",
       "      <td>FIFA 17</td>\n",
       "      <td>PS4</td>\n",
       "      <td>Sports</td>\n",
       "      <td>Electronic Arts</td>\n",
       "      <td>0.28</td>\n",
       "      <td>3.75</td>\n",
       "      <td>0.06</td>\n",
       "      <td>0.69</td>\n",
       "      <td>4.77</td>\n",
       "    </tr>\n",
       "    <tr>\n",
       "      <th>2013</th>\n",
       "      <td>257</td>\n",
       "      <td>FIFA 14</td>\n",
       "      <td>X360</td>\n",
       "      <td>Sports</td>\n",
       "      <td>Electronic Arts</td>\n",
       "      <td>0.92</td>\n",
       "      <td>2.93</td>\n",
       "      <td>0.01</td>\n",
       "      <td>0.46</td>\n",
       "      <td>4.31</td>\n",
       "    </tr>\n",
       "  </tbody>\n",
       "</table>\n",
       "</div>"
      ],
      "text/plain": [
       "      Rank            Name Platform   Genre        Publisher  NA_Sales  \\\n",
       "Year                                                                     \n",
       "2015    78         FIFA 16      PS4  Sports  Electronic Arts      1.11   \n",
       "2012    83  FIFA Soccer 13      PS3  Action  Electronic Arts      1.06   \n",
       "2013   113         FIFA 14      PS3  Sports  Electronic Arts      0.78   \n",
       "2011   122         FIFA 12      PS3  Sports  Electronic Arts      0.84   \n",
       "2014   125         FIFA 15      PS4  Sports  Electronic Arts      0.79   \n",
       "2012   186  FIFA Soccer 13     X360  Action  Electronic Arts      1.08   \n",
       "2010   200  FIFA Soccer 11      PS3  Sports  Electronic Arts      0.60   \n",
       "2014   220         FIFA 15      PS3  Sports  Electronic Arts      0.57   \n",
       "2016   222         FIFA 17      PS4  Sports  Electronic Arts      0.28   \n",
       "2013   257         FIFA 14     X360  Sports  Electronic Arts      0.92   \n",
       "\n",
       "      EU_Sales  JP_Sales  Other_Sales  Global_Sales  \n",
       "Year                                                 \n",
       "2015      6.06      0.06         1.26          8.49  \n",
       "2012      5.05      0.13         2.01          8.24  \n",
       "2013      4.32      0.07         1.73          6.90  \n",
       "2011      4.32      0.11         1.42          6.69  \n",
       "2014      4.29      0.05         1.47          6.59  \n",
       "2012      3.48      0.03         0.58          5.18  \n",
       "2010      3.29      0.06         1.13          5.08  \n",
       "2014      3.14      0.04         1.07          4.82  \n",
       "2016      3.75      0.06         0.69          4.77  \n",
       "2013      2.93      0.01         0.46          4.31  "
      ]
     },
     "execution_count": 36,
     "metadata": {},
     "output_type": "execute_result"
    }
   ],
   "source": [
    "fifa_games = data[data['Name'].str.contains(\"FIFA\")].copy()\n",
    "fifa_games['Year'] = fifa_games['Year'].astype(int)\n",
    "fifa_games = fifa_games.set_index('Year')\n",
    "fifa_games.head(10)"
   ]
  },
  {
   "cell_type": "code",
   "execution_count": 37,
   "id": "0803ef39-47de-40f3-8af3-0cb4dce2862e",
   "metadata": {},
   "outputs": [
    {
     "data": {
      "text/plain": [
       "<Axes: xlabel='Platform', ylabel='Millions of Copies Sold'>"
      ]
     },
     "execution_count": 37,
     "metadata": {},
     "output_type": "execute_result"
    },
    {
     "data": {
      "image/png": "[encoded data removed]",
      "text/plain": [
       "<Figure size 640x480 with 1 Axes>"
      ]
     },
     "metadata": {},
     "output_type": "display_data"
    }
   ],
   "source": [
    "fifa_games.groupby('Platform')['Global_Sales'].agg('sum').sort_values(ascending=False).plot.bar(ylabel='Millions of Copies Sold')"
   ]
  },
  {
   "cell_type": "markdown",
   "id": "44b0c9dd-2a89-47cb-afd3-da23f7ecc646",
   "metadata": {},
   "source": [
    "Now we know that *FIFA* players are most likely PS3 owners, which seems accurate given that countries in western Europe (namely France, Germany, and Spain, regions wholly obsessed with football and which have readily accessible data for console sales) [favour the PS3 over the XBox 360](https://en.wikipedia.org/wiki/List_of_best-selling_game_consoles_by_region#Western_Europe)."
   ]
  },
  {
   "cell_type": "code",
   "execution_count": 38,
   "id": "4fac5eff-11a6-47d3-b1d9-20685cca6570",
   "metadata": {},
   "outputs": [
    {
     "data": {
      "text/plain": [
       "<Axes: xlabel='Millions of Copies Sold', ylabel='Entry in Franchise'>"
      ]
     },
     "execution_count": 38,
     "metadata": {},
     "output_type": "execute_result"
    },
    {
     "data": {
      "image/png": "[encoded data removed]",
      "text/plain": [
       "<Figure size 640x480 with 1 Axes>"
      ]
     },
     "metadata": {},
     "output_type": "display_data"
    }
   ],
   "source": [
    "fifa_games.groupby('Year')['Global_Sales'].agg('sum').sort_index().plot.line(xlabel='Millions of Copies Sold', ylabel='Entry in Franchise')"
   ]
  },
  {
   "cell_type": "markdown",
   "id": "aeed4d80-f09b-460e-980b-2faf92993178",
   "metadata": {},
   "source": [
    "It may be hard to see, but there are sales spikes roughly every 4 years starting in 1998. This is indicative of the effect that the World Cup has on sales of football games. Below I show you that there are multiple games release leading up to and in the year of the World Cup."
   ]
  },
  {
   "cell_type": "code",
   "execution_count": 39,
   "id": "0f77d0a3-fdfb-4e77-8a2b-80e97bd57271",
   "metadata": {},
   "outputs": [
    {
     "data": {
      "text/plain": [
       "Year  Name                              \n",
       "1995  FIFA Soccer 96                         0.16\n",
       "1996  FIFA Soccer 97                         0.16\n",
       "1997  FIFA Soccer 64                         0.49\n",
       "      FIFA: Road to  World Cup 98            0.58\n",
       "      FIFA: Road to World Cup 98             0.73\n",
       "1998  FIFA 2000                              1.87\n",
       "      FIFA 99                                0.54\n",
       "2000  FIFA 2001 Major League Soccer          0.32\n",
       "      FIFA 2001: Major League Soccer         0.09\n",
       "      FIFA Soccer World Championship         0.83\n",
       "2001  FIFA Soccer 2002                       0.96\n",
       "2002  2002 FIFA World Cup                    0.83\n",
       "      FIFA Soccer 2003                       4.16\n",
       "      FIFA Soccer 2003 (weekly jp sales)     0.04\n",
       "      Project FIFA World Cup                 0.10\n",
       "2003  FIFA Soccer 2004                       0.91\n",
       "2004  FIFA Soccer 2005                       4.89\n",
       "2005  FIFA 06 Soccer                         0.14\n",
       "      FIFA 06: Road to FIFA World Cup        0.15\n",
       "      FIFA Soccer                            0.12\n",
       "      FIFA Soccer 06                         5.13\n",
       "      FIFA Street                            0.47\n",
       "2006  FIFA Soccer 07                         6.38\n",
       "      FIFA Street 2                          0.75\n",
       "      FIFA World Cup Germany 2006            1.57\n",
       "      FIFA World Cup: Germany 2006           0.03\n",
       "2007  FIFA Soccer 08                         9.49\n",
       "2008  FIFA Soccer 09                         8.67\n",
       "      FIFA Soccer 09 All-Play                0.90\n",
       "      FIFA Street 3                          0.72\n",
       "2009  FIFA Soccer 10                        10.74\n",
       "2010  2010 FIFA World Cup South Africa       3.00\n",
       "      FIFA Soccer 11                        12.56\n",
       "2011  FIFA 12                               13.15\n",
       "      FIFA Manager 12                        0.05\n",
       "2012  FIFA Soccer                            0.62\n",
       "      FIFA Soccer 13                        16.16\n",
       "      FIFA Street                            2.21\n",
       "2013  FIFA 14                               17.14\n",
       "2014  2014 FIFA World Cup Brazil             1.18\n",
       "      FIFA 15                               19.02\n",
       "2015  FIFA 16                               16.44\n",
       "2016  FIFA 17                                6.91\n",
       "Name: Global_Sales, dtype: float64"
      ]
     },
     "execution_count": 39,
     "metadata": {},
     "output_type": "execute_result"
    }
   ],
   "source": [
    "fifa_games.groupby([fifa_games.index, 'Name'])['Global_Sales'].agg('sum')"
   ]
  },
  {
   "cell_type": "markdown",
   "id": "a68ccb83-5c47-4469-b13a-f27d54e2d263",
   "metadata": {},
   "source": [
    "### Mario (Nintendo)"
   ]
  },
  {
   "cell_type": "markdown",
   "id": "046dcd05-37f0-49c4-808f-d1c8190d0e05",
   "metadata": {},
   "source": [
    "Finally, I take a look at Mario games, i.e. any game with \"Mario\" in the title. Nintendo is known for its high volume of platforms, with the Mario franchise having releases on all of their platforms/consoles to my knowledge. The overarching nature of the franchise and its global recognition is why I chose it for this analysis."
   ]
  },
  {
   "cell_type": "code",
   "execution_count": 40,
   "id": "bc9adeea-0d55-4ad1-8871-c607f7458c88",
   "metadata": {},
   "outputs": [
    {
     "data": {
      "text/html": [
       "<div>\n",
       "<style scoped>\n",
       "    .dataframe tbody tr th:only-of-type {\n",
       "        vertical-align: middle;\n",
       "    }\n",
       "\n",
       "    .dataframe tbody tr th {\n",
       "        vertical-align: top;\n",
       "    }\n",
       "\n",
       "    .dataframe thead th {\n",
       "        text-align: right;\n",
       "    }\n",
       "</style>\n",
       "<table border=\"1\" class=\"dataframe\">\n",
       "  <thead>\n",
       "    <tr style=\"text-align: right;\">\n",
       "      <th></th>\n",
       "      <th>Rank</th>\n",
       "      <th>Name</th>\n",
       "      <th>Platform</th>\n",
       "      <th>Genre</th>\n",
       "      <th>Publisher</th>\n",
       "      <th>NA_Sales</th>\n",
       "      <th>EU_Sales</th>\n",
       "      <th>JP_Sales</th>\n",
       "      <th>Other_Sales</th>\n",
       "      <th>Global_Sales</th>\n",
       "    </tr>\n",
       "    <tr>\n",
       "      <th>Year</th>\n",
       "      <th></th>\n",
       "      <th></th>\n",
       "      <th></th>\n",
       "      <th></th>\n",
       "      <th></th>\n",
       "      <th></th>\n",
       "      <th></th>\n",
       "      <th></th>\n",
       "      <th></th>\n",
       "      <th></th>\n",
       "    </tr>\n",
       "  </thead>\n",
       "  <tbody>\n",
       "    <tr>\n",
       "      <th>2008</th>\n",
       "      <td>3</td>\n",
       "      <td>Mario Kart Wii</td>\n",
       "      <td>Wii</td>\n",
       "      <td>Racing</td>\n",
       "      <td>Nintendo</td>\n",
       "      <td>15.85</td>\n",
       "      <td>12.88</td>\n",
       "      <td>3.79</td>\n",
       "      <td>3.31</td>\n",
       "      <td>35.82</td>\n",
       "    </tr>\n",
       "    <tr>\n",
       "      <th>2006</th>\n",
       "      <td>7</td>\n",
       "      <td>New Super Mario Bros.</td>\n",
       "      <td>DS</td>\n",
       "      <td>Platform</td>\n",
       "      <td>Nintendo</td>\n",
       "      <td>11.38</td>\n",
       "      <td>9.23</td>\n",
       "      <td>6.50</td>\n",
       "      <td>2.90</td>\n",
       "      <td>30.01</td>\n",
       "    </tr>\n",
       "    <tr>\n",
       "      <th>2009</th>\n",
       "      <td>9</td>\n",
       "      <td>New Super Mario Bros. Wii</td>\n",
       "      <td>Wii</td>\n",
       "      <td>Platform</td>\n",
       "      <td>Nintendo</td>\n",
       "      <td>14.59</td>\n",
       "      <td>7.06</td>\n",
       "      <td>4.70</td>\n",
       "      <td>2.26</td>\n",
       "      <td>28.62</td>\n",
       "    </tr>\n",
       "    <tr>\n",
       "      <th>2005</th>\n",
       "      <td>12</td>\n",
       "      <td>Mario Kart DS</td>\n",
       "      <td>DS</td>\n",
       "      <td>Racing</td>\n",
       "      <td>Nintendo</td>\n",
       "      <td>9.81</td>\n",
       "      <td>7.57</td>\n",
       "      <td>4.13</td>\n",
       "      <td>1.92</td>\n",
       "      <td>23.42</td>\n",
       "    </tr>\n",
       "    <tr>\n",
       "      <th>2011</th>\n",
       "      <td>43</td>\n",
       "      <td>Mario Kart 7</td>\n",
       "      <td>3DS</td>\n",
       "      <td>Racing</td>\n",
       "      <td>Nintendo</td>\n",
       "      <td>4.74</td>\n",
       "      <td>3.91</td>\n",
       "      <td>2.67</td>\n",
       "      <td>0.89</td>\n",
       "      <td>12.21</td>\n",
       "    </tr>\n",
       "    <tr>\n",
       "      <th>1996</th>\n",
       "      <td>47</td>\n",
       "      <td>Super Mario 64</td>\n",
       "      <td>N64</td>\n",
       "      <td>Platform</td>\n",
       "      <td>Nintendo</td>\n",
       "      <td>6.91</td>\n",
       "      <td>2.85</td>\n",
       "      <td>1.91</td>\n",
       "      <td>0.23</td>\n",
       "      <td>11.89</td>\n",
       "    </tr>\n",
       "    <tr>\n",
       "      <th>2007</th>\n",
       "      <td>49</td>\n",
       "      <td>Super Mario Galaxy</td>\n",
       "      <td>Wii</td>\n",
       "      <td>Platform</td>\n",
       "      <td>Nintendo</td>\n",
       "      <td>6.16</td>\n",
       "      <td>3.40</td>\n",
       "      <td>1.20</td>\n",
       "      <td>0.76</td>\n",
       "      <td>11.52</td>\n",
       "    </tr>\n",
       "    <tr>\n",
       "      <th>2011</th>\n",
       "      <td>54</td>\n",
       "      <td>Super Mario 3D Land</td>\n",
       "      <td>3DS</td>\n",
       "      <td>Platform</td>\n",
       "      <td>Nintendo</td>\n",
       "      <td>4.89</td>\n",
       "      <td>2.99</td>\n",
       "      <td>2.13</td>\n",
       "      <td>0.78</td>\n",
       "      <td>10.79</td>\n",
       "    </tr>\n",
       "    <tr>\n",
       "      <th>1993</th>\n",
       "      <td>58</td>\n",
       "      <td>Super Mario All-Stars</td>\n",
       "      <td>SNES</td>\n",
       "      <td>Platform</td>\n",
       "      <td>Nintendo</td>\n",
       "      <td>5.99</td>\n",
       "      <td>2.15</td>\n",
       "      <td>2.12</td>\n",
       "      <td>0.29</td>\n",
       "      <td>10.55</td>\n",
       "    </tr>\n",
       "    <tr>\n",
       "      <th>2004</th>\n",
       "      <td>60</td>\n",
       "      <td>Super Mario 64</td>\n",
       "      <td>DS</td>\n",
       "      <td>Platform</td>\n",
       "      <td>Nintendo</td>\n",
       "      <td>5.08</td>\n",
       "      <td>3.11</td>\n",
       "      <td>1.25</td>\n",
       "      <td>0.98</td>\n",
       "      <td>10.42</td>\n",
       "    </tr>\n",
       "  </tbody>\n",
       "</table>\n",
       "</div>"
      ],
      "text/plain": [
       "      Rank                       Name Platform     Genre Publisher  NA_Sales  \\\n",
       "Year                                                                           \n",
       "2008     3             Mario Kart Wii      Wii    Racing  Nintendo     15.85   \n",
       "2006     7      New Super Mario Bros.       DS  Platform  Nintendo     11.38   \n",
       "2009     9  New Super Mario Bros. Wii      Wii  Platform  Nintendo     14.59   \n",
       "2005    12              Mario Kart DS       DS    Racing  Nintendo      9.81   \n",
       "2011    43               Mario Kart 7      3DS    Racing  Nintendo      4.74   \n",
       "1996    47             Super Mario 64      N64  Platform  Nintendo      6.91   \n",
       "2007    49         Super Mario Galaxy      Wii  Platform  Nintendo      6.16   \n",
       "2011    54        Super Mario 3D Land      3DS  Platform  Nintendo      4.89   \n",
       "1993    58      Super Mario All-Stars     SNES  Platform  Nintendo      5.99   \n",
       "2004    60             Super Mario 64       DS  Platform  Nintendo      5.08   \n",
       "\n",
       "      EU_Sales  JP_Sales  Other_Sales  Global_Sales  \n",
       "Year                                                 \n",
       "2008     12.88      3.79         3.31         35.82  \n",
       "2006      9.23      6.50         2.90         30.01  \n",
       "2009      7.06      4.70         2.26         28.62  \n",
       "2005      7.57      4.13         1.92         23.42  \n",
       "2011      3.91      2.67         0.89         12.21  \n",
       "1996      2.85      1.91         0.23         11.89  \n",
       "2007      3.40      1.20         0.76         11.52  \n",
       "2011      2.99      2.13         0.78         10.79  \n",
       "1993      2.15      2.12         0.29         10.55  \n",
       "2004      3.11      1.25         0.98         10.42  "
      ]
     },
     "execution_count": 40,
     "metadata": {},
     "output_type": "execute_result"
    }
   ],
   "source": [
    "mario_games = data[data['Name'].str.contains(\"Mario\")].copy()\n",
    "mario_games['Year'] = mario_games['Year'].astype(int)\n",
    "mario_games = mario_games.set_index('Year')\n",
    "\n",
    "mario_games.head(10)"
   ]
  },
  {
   "cell_type": "code",
   "execution_count": 41,
   "id": "fee52e97-3991-40c8-a613-5dd8d1fbfb53",
   "metadata": {},
   "outputs": [
    {
     "data": {
      "text/plain": [
       "<Axes: xlabel='Platform', ylabel='Millions of Copies Sold'>"
      ]
     },
     "execution_count": 41,
     "metadata": {},
     "output_type": "execute_result"
    },
    {
     "data": {
      "image/png": "[encoded data removed]",
      "text/plain": [
       "<Figure size 640x480 with 1 Axes>"
      ]
     },
     "metadata": {},
     "output_type": "display_data"
    }
   ],
   "source": [
    "mario_games.groupby('Platform')['Global_Sales'].agg('sum').sort_values(ascending=False).plot.bar(ylabel='Millions of Copies Sold')"
   ]
  },
  {
   "cell_type": "markdown",
   "id": "96e8baa3-7ab9-42b4-af9f-5a6cc8898753",
   "metadata": {},
   "source": [
    "No surprises here; the Wii is the platform with the best-selling (and second and third best-selling) game in the period analysed. Naturally, the wii also sells the most successful Mario games. The below chart confirms this as well, with 2 out of the 3 top Mario games being released for the Wii."
   ]
  },
  {
   "cell_type": "code",
   "execution_count": 42,
   "id": "7a3d4f1d-9cad-4481-8815-216f135bad09",
   "metadata": {},
   "outputs": [
    {
     "data": {
      "text/plain": [
       "<Axes: xlabel='Millions of Copies Sold', ylabel='Entry in Franchise'>"
      ]
     },
     "execution_count": 42,
     "metadata": {},
     "output_type": "execute_result"
    },
    {
     "data": {
      "image/png": "[encoded data removed]",
      "text/plain": [
       "<Figure size 640x480 with 1 Axes>"
      ]
     },
     "metadata": {},
     "output_type": "display_data"
    }
   ],
   "source": [
    "mario_games.groupby('Name')['Global_Sales'].agg('sum').sort_values(ascending=False).head(15).sort_values().plot.barh(xlabel='Millions of Copies Sold', ylabel='Entry in Franchise')"
   ]
  },
  {
   "cell_type": "code",
   "execution_count": 43,
   "id": "e1be6f7e-359a-46f3-9f3f-735d7f8e4b7b",
   "metadata": {},
   "outputs": [
    {
     "data": {
      "text/plain": [
       "<Axes: xlabel='Millions of Copies Sold', ylabel='Entry in Franchise'>"
      ]
     },
     "execution_count": 43,
     "metadata": {},
     "output_type": "execute_result"
    },
    {
     "data": {
      "image/png": "[encoded data removed]",
      "text/plain": [
       "<Figure size 640x480 with 1 Axes>"
      ]
     },
     "metadata": {},
     "output_type": "display_data"
    }
   ],
   "source": [
    "mario_games.groupby('Year')['Global_Sales'].agg('sum').sort_index().plot.line(xlabel='Millions of Copies Sold', ylabel='Entry in Franchise')"
   ]
  },
  {
   "cell_type": "markdown",
   "id": "be07cf04-4b83-4366-a192-8add24d272f6",
   "metadata": {},
   "source": [
    "We see spikes in 1996, 2007-2009, and 2011. The specific releases responsible are:\n",
    "\n",
    "    (1996) Super Mario 64 and Mario Kart 64 for the N64\n",
    "    (2007) Super Mario Galaxy and the Mario Party games for the Wii\n",
    "    (2008) Mario Kart Wii\n",
    "    (2009) New Super Mario Bros. Wii\n",
    "    (2011) Mario Kart 7 and Super Mario 3D Land for the DS "
   ]
  },
  {
   "cell_type": "code",
   "execution_count": null,
   "id": "ba3858e5-3bd0-4b05-8acb-fc67268912f8",
   "metadata": {},
   "outputs": [],
   "source": []
  }
 ],
 "metadata": {
  "kernelspec": {
   "display_name": "Python 3 (ipykernel)",
   "language": "python",
   "name": "python3"
  },
  "language_info": {
   "codemirror_mode": {
    "name": "ipython",
    "version": 3
   },
   "file_extension": ".py",
   "mimetype": "text/x-python",
   "name": "python",
   "nbconvert_exporter": "python",
   "pygments_lexer": "ipython3",
   "version": "3.11.9"
  }
 },
 "nbformat": 4,
 "nbformat_minor": 5
}
